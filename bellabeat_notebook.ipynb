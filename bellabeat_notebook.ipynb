{
 "cells": [
  {
   "cell_type": "markdown",
   "id": "a9058261",
   "metadata": {},
   "source": [
    "# Case Study 2: How Can a Wellness Technology Company Play It Smart?"
   ]
  },
  {
   "cell_type": "markdown",
   "id": "c970fbce",
   "metadata": {},
   "source": [
    "## 💼 Business Task  \n"
   ]
  },
  {
   "cell_type": "markdown",
   "id": "4fe34d5a",
   "metadata": {},
   "source": [
    "\n",
    "**How can Bellabeat grow its customer base using insights from smart device data?**  \n",
    "We’ll explore how people use health-tracking devices to help Bellabeat make smarter product and marketing decisions.\n",
    "\n",
    "---\n"
   ]
  },
  {
   "cell_type": "markdown",
   "id": "65b017c3",
   "metadata": {},
   "source": [
    "## ❓ Problem Statement  "
   ]
  },
  {
   "cell_type": "markdown",
   "id": "6ccd0163",
   "metadata": {},
   "source": [
    "Bellabeat needs a better understanding of how users interact with health-focused devices to stay competitive and grow.\n",
    "\n",
    "---\n"
   ]
  },
  {
   "cell_type": "markdown",
   "id": "6abefba2",
   "metadata": {},
   "source": [
    "## 🧠 How This Analysis Can Help"
   ]
  },
  {
   "cell_type": "markdown",
   "id": "2073c43a",
   "metadata": {},
   "source": [
    "\n",
    "The insights can guide:\n",
    "- Which features to focus on\n",
    "- Where to reduce costs or improve the product\n",
    "- How to stand out from competitors\n",
    "- Smarter marketing strategies\n",
    "- Better user retention and satisfaction\n",
    "\n",
    "---\n"
   ]
  },
  {
   "cell_type": "markdown",
   "id": "bdccd6a4",
   "metadata": {},
   "source": [
    "## 👥 Key Stakeholders"
   ]
  },
  {
   "cell_type": "markdown",
   "id": "db11f1cf",
   "metadata": {},
   "source": [
    "\n",
    "### Urška Sršen – Cofounder & Chief Creative Officer  \n",
    "- Main decision-maker  \n",
    "- Prefers clear, easy-to-understand insights  \n",
    "- Interested in how data can improve product and marketing  \n",
    "\n",
    "### Sando Mur – Cofounder & Mathematician  \n",
    "- Focused on strategy and data-driven decisions  \n",
    "- Values solid conclusions, not technical details  \n",
    "\n",
    "### Marketing Analytics Team  \n",
    "- Responsible for tracking results and applying insights  \n",
    "- Needs full details on data sources, methods, and assumptions  \n",
    "- May reuse or expand the analysis\n",
    "\n",
    "---\n"
   ]
  },
  {
   "cell_type": "markdown",
   "id": "dd2e0e35",
   "metadata": {},
   "source": [
    "## 📊 About the Data"
   ]
  },
  {
   "cell_type": "markdown",
   "id": "037cc8cc",
   "metadata": {},
   "source": [
    "\n",
    "- Sourced from **Kaggle**, used in the **Google Data Analytics Certificate**\n",
    "- Based on users of similar devices (not actual Bellabeat users)\n",
    "- Not real-time, and some info like weight or sleep may be manually entered\n",
    "- Data is public, anonymous, and safe to use\n",
    "\n",
    "---\n"
   ]
  },
  {
   "cell_type": "markdown",
   "id": "edc9a95c",
   "metadata": {},
   "source": [
    "## 🧹 Data Cleaning Summary"
   ]
  },
  {
   "cell_type": "markdown",
   "id": "75128547",
   "metadata": {},
   "source": [
    "\n",
    "- Removed incosistent or missing values and duplicates  \n",
    "- Checked column types and fixed errors  \n",
    "- Cleaned up inconsistent or illogical entries\n",
    "\n",
    "---\n"
   ]
  },
  {
   "cell_type": "markdown",
   "id": "da9f1da8",
   "metadata": {},
   "source": [
    "## ⚠️ Limitations"
   ]
  },
  {
   "cell_type": "markdown",
   "id": "80a3f1c0",
   "metadata": {},
   "source": [
    "\n",
    "- Small sample size  \n",
    "- No way to confirm if users wore the device correctly or consistently  \n",
    "- Self-reported data may not be 100% reliable\n",
    "- Data may be missing or inconsistent\n",
    "---\n"
   ]
  },
  {
   "cell_type": "markdown",
   "id": "c1670274",
   "metadata": {},
   "source": [
    "## 🛠️ Tools Used"
   ]
  },
  {
   "cell_type": "markdown",
   "id": "ee7f3c95",
   "metadata": {},
   "source": [
    "\n",
    "- **Python** for data exploration, analysis, and cleaning  \n",
    "- **pandas** for loading and working with data  \n",
    "- **matplotlib** and **seaborn** for visualizations  \n",
    "- **Jupyter Notebook** to combine code, explanations, and visual output in one place\n",
    "\n",
    "These tools allow for a clear, step-by-step analysis that is easy to understand and share, even for non-technical stakeholders.\n",
    "\n",
    "---\n"
   ]
  },
  {
   "cell_type": "markdown",
   "id": "dc0f0136",
   "metadata": {},
   "source": [
    "## 🧹 Data Cleaning and Preparation"
   ]
  },
  {
   "cell_type": "markdown",
   "id": "e3f0576b",
   "metadata": {},
   "source": [
    "### 📦 Step 1: Importing Libraries\n",
    "\n",
    "We'll use `pandas` for data manipulation, `matplotlib` and `seaborn` visualizations. We'll also bring in `numpy` to help evaluate correlations more easily."
   ]
  },
  {
   "cell_type": "code",
   "execution_count": 413,
   "id": "bf8d8ffc",
   "metadata": {},
   "outputs": [],
   "source": [
    "import pandas as pd\n",
    "import matplotlib.pyplot as plt\n",
    "import seaborn as sns\n",
    "import numpy as np"
   ]
  },
  {
   "cell_type": "markdown",
   "id": "43628d2f",
   "metadata": {},
   "source": [
    "### 🔃 Step 2: Loading the Data\n",
    "\n",
    "We're loading four datasets in CSV format: daily activity, hourly intensity, sleep logs, and weight logs. To start, we’ll use the `read_csv()` function from the `pandas` library to load each dataset into a DataFrame, which lets us explore and analyze the data more easily.\n",
    "\n"
   ]
  },
  {
   "cell_type": "code",
   "execution_count": 414,
   "id": "a9844b18",
   "metadata": {},
   "outputs": [],
   "source": [
    "dailyActivity = pd.read_csv('dailyActivity.csv')\n",
    "hourlyIntensities = pd.read_csv('hourlyIntensities.csv')\n",
    "sleepDay = pd.read_csv('sleepDay.csv')\n",
    "weightLog = pd.read_csv('weightLogInfo.csv')"
   ]
  },
  {
   "cell_type": "markdown",
   "id": "20ea1c3d",
   "metadata": {},
   "source": [
    "### 🔍 Step 3: Initial Data Exploration\n",
    "\n",
    "We'll look at `head()`, `tail()`, and random `sample()` for a quick feel of the data in each file."
   ]
  },
  {
   "cell_type": "markdown",
   "id": "1ab4de8d",
   "metadata": {},
   "source": [
    "#### `dailyActivity`"
   ]
  },
  {
   "cell_type": "code",
   "execution_count": 415,
   "id": "904e3516",
   "metadata": {},
   "outputs": [
    {
     "data": {
      "application/vnd.microsoft.datawrangler.viewer.v0+json": {
       "columns": [
        {
         "name": "index",
         "rawType": "int64",
         "type": "integer"
        },
        {
         "name": "Id",
         "rawType": "int64",
         "type": "integer"
        },
        {
         "name": "ActivityDate",
         "rawType": "object",
         "type": "string"
        },
        {
         "name": "TotalSteps",
         "rawType": "int64",
         "type": "integer"
        },
        {
         "name": "TotalDistance",
         "rawType": "float64",
         "type": "float"
        },
        {
         "name": "TrackerDistance",
         "rawType": "float64",
         "type": "float"
        },
        {
         "name": "LoggedActivitiesDistance",
         "rawType": "float64",
         "type": "float"
        },
        {
         "name": "VeryActiveDistance",
         "rawType": "float64",
         "type": "float"
        },
        {
         "name": "ModeratelyActiveDistance",
         "rawType": "float64",
         "type": "float"
        },
        {
         "name": "LightActiveDistance",
         "rawType": "float64",
         "type": "float"
        },
        {
         "name": "SedentaryActiveDistance",
         "rawType": "float64",
         "type": "float"
        },
        {
         "name": "VeryActiveMinutes",
         "rawType": "int64",
         "type": "integer"
        },
        {
         "name": "FairlyActiveMinutes",
         "rawType": "int64",
         "type": "integer"
        },
        {
         "name": "LightlyActiveMinutes",
         "rawType": "int64",
         "type": "integer"
        },
        {
         "name": "SedentaryMinutes",
         "rawType": "int64",
         "type": "integer"
        },
        {
         "name": "Calories",
         "rawType": "int64",
         "type": "integer"
        }
       ],
       "ref": "7c90c867-5047-4c48-80ba-49d6c017a120",
       "rows": [
        [
         "0",
         "1503960366",
         "4/12/2016",
         "13162",
         "8.5",
         "8.5",
         "0.0",
         "1.87999999523163",
         "0.550000011920929",
         "6.05999994277954",
         "0.0",
         "25",
         "13",
         "328",
         "728",
         "1985"
        ],
        [
         "1",
         "1503960366",
         "4/13/2016",
         "10735",
         "6.96999979019165",
         "6.96999979019165",
         "0.0",
         "1.57000005245209",
         "0.689999997615814",
         "4.71000003814697",
         "0.0",
         "21",
         "19",
         "217",
         "776",
         "1797"
        ],
        [
         "2",
         "1503960366",
         "4/14/2016",
         "10460",
         "6.73999977111816",
         "6.73999977111816",
         "0.0",
         "2.44000005722046",
         "0.400000005960464",
         "3.91000008583069",
         "0.0",
         "30",
         "11",
         "181",
         "1218",
         "1776"
        ],
        [
         "3",
         "1503960366",
         "4/15/2016",
         "9762",
         "6.28000020980835",
         "6.28000020980835",
         "0.0",
         "2.14000010490417",
         "1.25999999046326",
         "2.82999992370605",
         "0.0",
         "29",
         "34",
         "209",
         "726",
         "1745"
        ],
        [
         "4",
         "1503960366",
         "4/16/2016",
         "12669",
         "8.15999984741211",
         "8.15999984741211",
         "0.0",
         "2.71000003814697",
         "0.409999996423721",
         "5.03999996185303",
         "0.0",
         "36",
         "10",
         "221",
         "773",
         "1863"
        ]
       ],
       "shape": {
        "columns": 15,
        "rows": 5
       }
      },
      "text/html": [
       "<div>\n",
       "<style scoped>\n",
       "    .dataframe tbody tr th:only-of-type {\n",
       "        vertical-align: middle;\n",
       "    }\n",
       "\n",
       "    .dataframe tbody tr th {\n",
       "        vertical-align: top;\n",
       "    }\n",
       "\n",
       "    .dataframe thead th {\n",
       "        text-align: right;\n",
       "    }\n",
       "</style>\n",
       "<table border=\"1\" class=\"dataframe\">\n",
       "  <thead>\n",
       "    <tr style=\"text-align: right;\">\n",
       "      <th></th>\n",
       "      <th>Id</th>\n",
       "      <th>ActivityDate</th>\n",
       "      <th>TotalSteps</th>\n",
       "      <th>TotalDistance</th>\n",
       "      <th>TrackerDistance</th>\n",
       "      <th>LoggedActivitiesDistance</th>\n",
       "      <th>VeryActiveDistance</th>\n",
       "      <th>ModeratelyActiveDistance</th>\n",
       "      <th>LightActiveDistance</th>\n",
       "      <th>SedentaryActiveDistance</th>\n",
       "      <th>VeryActiveMinutes</th>\n",
       "      <th>FairlyActiveMinutes</th>\n",
       "      <th>LightlyActiveMinutes</th>\n",
       "      <th>SedentaryMinutes</th>\n",
       "      <th>Calories</th>\n",
       "    </tr>\n",
       "  </thead>\n",
       "  <tbody>\n",
       "    <tr>\n",
       "      <th>0</th>\n",
       "      <td>1503960366</td>\n",
       "      <td>4/12/2016</td>\n",
       "      <td>13162</td>\n",
       "      <td>8.50</td>\n",
       "      <td>8.50</td>\n",
       "      <td>0.0</td>\n",
       "      <td>1.88</td>\n",
       "      <td>0.55</td>\n",
       "      <td>6.06</td>\n",
       "      <td>0.0</td>\n",
       "      <td>25</td>\n",
       "      <td>13</td>\n",
       "      <td>328</td>\n",
       "      <td>728</td>\n",
       "      <td>1985</td>\n",
       "    </tr>\n",
       "    <tr>\n",
       "      <th>1</th>\n",
       "      <td>1503960366</td>\n",
       "      <td>4/13/2016</td>\n",
       "      <td>10735</td>\n",
       "      <td>6.97</td>\n",
       "      <td>6.97</td>\n",
       "      <td>0.0</td>\n",
       "      <td>1.57</td>\n",
       "      <td>0.69</td>\n",
       "      <td>4.71</td>\n",
       "      <td>0.0</td>\n",
       "      <td>21</td>\n",
       "      <td>19</td>\n",
       "      <td>217</td>\n",
       "      <td>776</td>\n",
       "      <td>1797</td>\n",
       "    </tr>\n",
       "    <tr>\n",
       "      <th>2</th>\n",
       "      <td>1503960366</td>\n",
       "      <td>4/14/2016</td>\n",
       "      <td>10460</td>\n",
       "      <td>6.74</td>\n",
       "      <td>6.74</td>\n",
       "      <td>0.0</td>\n",
       "      <td>2.44</td>\n",
       "      <td>0.40</td>\n",
       "      <td>3.91</td>\n",
       "      <td>0.0</td>\n",
       "      <td>30</td>\n",
       "      <td>11</td>\n",
       "      <td>181</td>\n",
       "      <td>1218</td>\n",
       "      <td>1776</td>\n",
       "    </tr>\n",
       "    <tr>\n",
       "      <th>3</th>\n",
       "      <td>1503960366</td>\n",
       "      <td>4/15/2016</td>\n",
       "      <td>9762</td>\n",
       "      <td>6.28</td>\n",
       "      <td>6.28</td>\n",
       "      <td>0.0</td>\n",
       "      <td>2.14</td>\n",
       "      <td>1.26</td>\n",
       "      <td>2.83</td>\n",
       "      <td>0.0</td>\n",
       "      <td>29</td>\n",
       "      <td>34</td>\n",
       "      <td>209</td>\n",
       "      <td>726</td>\n",
       "      <td>1745</td>\n",
       "    </tr>\n",
       "    <tr>\n",
       "      <th>4</th>\n",
       "      <td>1503960366</td>\n",
       "      <td>4/16/2016</td>\n",
       "      <td>12669</td>\n",
       "      <td>8.16</td>\n",
       "      <td>8.16</td>\n",
       "      <td>0.0</td>\n",
       "      <td>2.71</td>\n",
       "      <td>0.41</td>\n",
       "      <td>5.04</td>\n",
       "      <td>0.0</td>\n",
       "      <td>36</td>\n",
       "      <td>10</td>\n",
       "      <td>221</td>\n",
       "      <td>773</td>\n",
       "      <td>1863</td>\n",
       "    </tr>\n",
       "  </tbody>\n",
       "</table>\n",
       "</div>"
      ],
      "text/plain": [
       "           Id ActivityDate  TotalSteps  TotalDistance  TrackerDistance  \\\n",
       "0  1503960366    4/12/2016       13162           8.50             8.50   \n",
       "1  1503960366    4/13/2016       10735           6.97             6.97   \n",
       "2  1503960366    4/14/2016       10460           6.74             6.74   \n",
       "3  1503960366    4/15/2016        9762           6.28             6.28   \n",
       "4  1503960366    4/16/2016       12669           8.16             8.16   \n",
       "\n",
       "   LoggedActivitiesDistance  VeryActiveDistance  ModeratelyActiveDistance  \\\n",
       "0                       0.0                1.88                      0.55   \n",
       "1                       0.0                1.57                      0.69   \n",
       "2                       0.0                2.44                      0.40   \n",
       "3                       0.0                2.14                      1.26   \n",
       "4                       0.0                2.71                      0.41   \n",
       "\n",
       "   LightActiveDistance  SedentaryActiveDistance  VeryActiveMinutes  \\\n",
       "0                 6.06                      0.0                 25   \n",
       "1                 4.71                      0.0                 21   \n",
       "2                 3.91                      0.0                 30   \n",
       "3                 2.83                      0.0                 29   \n",
       "4                 5.04                      0.0                 36   \n",
       "\n",
       "   FairlyActiveMinutes  LightlyActiveMinutes  SedentaryMinutes  Calories  \n",
       "0                   13                   328               728      1985  \n",
       "1                   19                   217               776      1797  \n",
       "2                   11                   181              1218      1776  \n",
       "3                   34                   209               726      1745  \n",
       "4                   10                   221               773      1863  "
      ]
     },
     "execution_count": 415,
     "metadata": {},
     "output_type": "execute_result"
    }
   ],
   "source": [
    "dailyActivity.head()"
   ]
  },
  {
   "cell_type": "code",
   "execution_count": 416,
   "id": "9ed9ac09",
   "metadata": {},
   "outputs": [
    {
     "data": {
      "application/vnd.microsoft.datawrangler.viewer.v0+json": {
       "columns": [
        {
         "name": "index",
         "rawType": "int64",
         "type": "integer"
        },
        {
         "name": "Id",
         "rawType": "int64",
         "type": "integer"
        },
        {
         "name": "ActivityDate",
         "rawType": "object",
         "type": "string"
        },
        {
         "name": "TotalSteps",
         "rawType": "int64",
         "type": "integer"
        },
        {
         "name": "TotalDistance",
         "rawType": "float64",
         "type": "float"
        },
        {
         "name": "TrackerDistance",
         "rawType": "float64",
         "type": "float"
        },
        {
         "name": "LoggedActivitiesDistance",
         "rawType": "float64",
         "type": "float"
        },
        {
         "name": "VeryActiveDistance",
         "rawType": "float64",
         "type": "float"
        },
        {
         "name": "ModeratelyActiveDistance",
         "rawType": "float64",
         "type": "float"
        },
        {
         "name": "LightActiveDistance",
         "rawType": "float64",
         "type": "float"
        },
        {
         "name": "SedentaryActiveDistance",
         "rawType": "float64",
         "type": "float"
        },
        {
         "name": "VeryActiveMinutes",
         "rawType": "int64",
         "type": "integer"
        },
        {
         "name": "FairlyActiveMinutes",
         "rawType": "int64",
         "type": "integer"
        },
        {
         "name": "LightlyActiveMinutes",
         "rawType": "int64",
         "type": "integer"
        },
        {
         "name": "SedentaryMinutes",
         "rawType": "int64",
         "type": "integer"
        },
        {
         "name": "Calories",
         "rawType": "int64",
         "type": "integer"
        }
       ],
       "ref": "de112f05-97d8-4a18-be28-1572e55cbd9d",
       "rows": [
        [
         "935",
         "8877689391",
         "5/8/2016",
         "10686",
         "8.10999965667725",
         "8.10999965667725",
         "0.0",
         "1.08000004291534",
         "0.200000002980232",
         "6.80000019073486",
         "0.0",
         "17",
         "4",
         "245",
         "1174",
         "2847"
        ],
        [
         "936",
         "8877689391",
         "5/9/2016",
         "20226",
         "18.25",
         "18.25",
         "0.0",
         "11.1000003814697",
         "0.800000011920929",
         "6.23999977111816",
         "0.0500000007450581",
         "73",
         "19",
         "217",
         "1131",
         "3710"
        ],
        [
         "937",
         "8877689391",
         "5/10/2016",
         "10733",
         "8.14999961853027",
         "8.14999961853027",
         "0.0",
         "1.35000002384186",
         "0.46000000834465",
         "6.28000020980835",
         "0.0",
         "18",
         "11",
         "224",
         "1187",
         "2832"
        ],
        [
         "938",
         "8877689391",
         "5/11/2016",
         "21420",
         "19.5599994659424",
         "19.5599994659424",
         "0.0",
         "13.2200002670288",
         "0.409999996423721",
         "5.8899998664856",
         "0.0",
         "88",
         "12",
         "213",
         "1127",
         "3832"
        ],
        [
         "939",
         "8877689391",
         "5/12/2016",
         "8064",
         "6.11999988555908",
         "6.11999988555908",
         "0.0",
         "1.82000005245209",
         "0.0399999991059303",
         "4.25",
         "0.0",
         "23",
         "1",
         "137",
         "770",
         "1849"
        ]
       ],
       "shape": {
        "columns": 15,
        "rows": 5
       }
      },
      "text/html": [
       "<div>\n",
       "<style scoped>\n",
       "    .dataframe tbody tr th:only-of-type {\n",
       "        vertical-align: middle;\n",
       "    }\n",
       "\n",
       "    .dataframe tbody tr th {\n",
       "        vertical-align: top;\n",
       "    }\n",
       "\n",
       "    .dataframe thead th {\n",
       "        text-align: right;\n",
       "    }\n",
       "</style>\n",
       "<table border=\"1\" class=\"dataframe\">\n",
       "  <thead>\n",
       "    <tr style=\"text-align: right;\">\n",
       "      <th></th>\n",
       "      <th>Id</th>\n",
       "      <th>ActivityDate</th>\n",
       "      <th>TotalSteps</th>\n",
       "      <th>TotalDistance</th>\n",
       "      <th>TrackerDistance</th>\n",
       "      <th>LoggedActivitiesDistance</th>\n",
       "      <th>VeryActiveDistance</th>\n",
       "      <th>ModeratelyActiveDistance</th>\n",
       "      <th>LightActiveDistance</th>\n",
       "      <th>SedentaryActiveDistance</th>\n",
       "      <th>VeryActiveMinutes</th>\n",
       "      <th>FairlyActiveMinutes</th>\n",
       "      <th>LightlyActiveMinutes</th>\n",
       "      <th>SedentaryMinutes</th>\n",
       "      <th>Calories</th>\n",
       "    </tr>\n",
       "  </thead>\n",
       "  <tbody>\n",
       "    <tr>\n",
       "      <th>935</th>\n",
       "      <td>8877689391</td>\n",
       "      <td>5/8/2016</td>\n",
       "      <td>10686</td>\n",
       "      <td>8.110000</td>\n",
       "      <td>8.110000</td>\n",
       "      <td>0.0</td>\n",
       "      <td>1.08</td>\n",
       "      <td>0.20</td>\n",
       "      <td>6.80</td>\n",
       "      <td>0.00</td>\n",
       "      <td>17</td>\n",
       "      <td>4</td>\n",
       "      <td>245</td>\n",
       "      <td>1174</td>\n",
       "      <td>2847</td>\n",
       "    </tr>\n",
       "    <tr>\n",
       "      <th>936</th>\n",
       "      <td>8877689391</td>\n",
       "      <td>5/9/2016</td>\n",
       "      <td>20226</td>\n",
       "      <td>18.250000</td>\n",
       "      <td>18.250000</td>\n",
       "      <td>0.0</td>\n",
       "      <td>11.10</td>\n",
       "      <td>0.80</td>\n",
       "      <td>6.24</td>\n",
       "      <td>0.05</td>\n",
       "      <td>73</td>\n",
       "      <td>19</td>\n",
       "      <td>217</td>\n",
       "      <td>1131</td>\n",
       "      <td>3710</td>\n",
       "    </tr>\n",
       "    <tr>\n",
       "      <th>937</th>\n",
       "      <td>8877689391</td>\n",
       "      <td>5/10/2016</td>\n",
       "      <td>10733</td>\n",
       "      <td>8.150000</td>\n",
       "      <td>8.150000</td>\n",
       "      <td>0.0</td>\n",
       "      <td>1.35</td>\n",
       "      <td>0.46</td>\n",
       "      <td>6.28</td>\n",
       "      <td>0.00</td>\n",
       "      <td>18</td>\n",
       "      <td>11</td>\n",
       "      <td>224</td>\n",
       "      <td>1187</td>\n",
       "      <td>2832</td>\n",
       "    </tr>\n",
       "    <tr>\n",
       "      <th>938</th>\n",
       "      <td>8877689391</td>\n",
       "      <td>5/11/2016</td>\n",
       "      <td>21420</td>\n",
       "      <td>19.559999</td>\n",
       "      <td>19.559999</td>\n",
       "      <td>0.0</td>\n",
       "      <td>13.22</td>\n",
       "      <td>0.41</td>\n",
       "      <td>5.89</td>\n",
       "      <td>0.00</td>\n",
       "      <td>88</td>\n",
       "      <td>12</td>\n",
       "      <td>213</td>\n",
       "      <td>1127</td>\n",
       "      <td>3832</td>\n",
       "    </tr>\n",
       "    <tr>\n",
       "      <th>939</th>\n",
       "      <td>8877689391</td>\n",
       "      <td>5/12/2016</td>\n",
       "      <td>8064</td>\n",
       "      <td>6.120000</td>\n",
       "      <td>6.120000</td>\n",
       "      <td>0.0</td>\n",
       "      <td>1.82</td>\n",
       "      <td>0.04</td>\n",
       "      <td>4.25</td>\n",
       "      <td>0.00</td>\n",
       "      <td>23</td>\n",
       "      <td>1</td>\n",
       "      <td>137</td>\n",
       "      <td>770</td>\n",
       "      <td>1849</td>\n",
       "    </tr>\n",
       "  </tbody>\n",
       "</table>\n",
       "</div>"
      ],
      "text/plain": [
       "             Id ActivityDate  TotalSteps  TotalDistance  TrackerDistance  \\\n",
       "935  8877689391     5/8/2016       10686       8.110000         8.110000   \n",
       "936  8877689391     5/9/2016       20226      18.250000        18.250000   \n",
       "937  8877689391    5/10/2016       10733       8.150000         8.150000   \n",
       "938  8877689391    5/11/2016       21420      19.559999        19.559999   \n",
       "939  8877689391    5/12/2016        8064       6.120000         6.120000   \n",
       "\n",
       "     LoggedActivitiesDistance  VeryActiveDistance  ModeratelyActiveDistance  \\\n",
       "935                       0.0                1.08                      0.20   \n",
       "936                       0.0               11.10                      0.80   \n",
       "937                       0.0                1.35                      0.46   \n",
       "938                       0.0               13.22                      0.41   \n",
       "939                       0.0                1.82                      0.04   \n",
       "\n",
       "     LightActiveDistance  SedentaryActiveDistance  VeryActiveMinutes  \\\n",
       "935                 6.80                     0.00                 17   \n",
       "936                 6.24                     0.05                 73   \n",
       "937                 6.28                     0.00                 18   \n",
       "938                 5.89                     0.00                 88   \n",
       "939                 4.25                     0.00                 23   \n",
       "\n",
       "     FairlyActiveMinutes  LightlyActiveMinutes  SedentaryMinutes  Calories  \n",
       "935                    4                   245              1174      2847  \n",
       "936                   19                   217              1131      3710  \n",
       "937                   11                   224              1187      2832  \n",
       "938                   12                   213              1127      3832  \n",
       "939                    1                   137               770      1849  "
      ]
     },
     "execution_count": 416,
     "metadata": {},
     "output_type": "execute_result"
    }
   ],
   "source": [
    "dailyActivity.tail()"
   ]
  },
  {
   "cell_type": "code",
   "execution_count": 417,
   "id": "14d781b3",
   "metadata": {},
   "outputs": [
    {
     "data": {
      "application/vnd.microsoft.datawrangler.viewer.v0+json": {
       "columns": [
        {
         "name": "index",
         "rawType": "int64",
         "type": "integer"
        },
        {
         "name": "Id",
         "rawType": "int64",
         "type": "integer"
        },
        {
         "name": "ActivityDate",
         "rawType": "object",
         "type": "string"
        },
        {
         "name": "TotalSteps",
         "rawType": "int64",
         "type": "integer"
        },
        {
         "name": "TotalDistance",
         "rawType": "float64",
         "type": "float"
        },
        {
         "name": "TrackerDistance",
         "rawType": "float64",
         "type": "float"
        },
        {
         "name": "LoggedActivitiesDistance",
         "rawType": "float64",
         "type": "float"
        },
        {
         "name": "VeryActiveDistance",
         "rawType": "float64",
         "type": "float"
        },
        {
         "name": "ModeratelyActiveDistance",
         "rawType": "float64",
         "type": "float"
        },
        {
         "name": "LightActiveDistance",
         "rawType": "float64",
         "type": "float"
        },
        {
         "name": "SedentaryActiveDistance",
         "rawType": "float64",
         "type": "float"
        },
        {
         "name": "VeryActiveMinutes",
         "rawType": "int64",
         "type": "integer"
        },
        {
         "name": "FairlyActiveMinutes",
         "rawType": "int64",
         "type": "integer"
        },
        {
         "name": "LightlyActiveMinutes",
         "rawType": "int64",
         "type": "integer"
        },
        {
         "name": "SedentaryMinutes",
         "rawType": "int64",
         "type": "integer"
        },
        {
         "name": "Calories",
         "rawType": "int64",
         "type": "integer"
        }
       ],
       "ref": "7e550b13-0dff-4b89-8035-0186e950d17e",
       "rows": [
        [
         "3",
         "1503960366",
         "4/15/2016",
         "9762",
         "6.28000020980835",
         "6.28000020980835",
         "0.0",
         "2.14000010490417",
         "1.25999999046326",
         "2.82999992370605",
         "0.0",
         "29",
         "34",
         "209",
         "726",
         "1745"
        ],
        [
         "586",
         "5577150313",
         "5/1/2016",
         "13368",
         "9.98999977111816",
         "9.98999977111816",
         "0.0",
         "5.30999994277954",
         "1.44000005722046",
         "3.24000000953674",
         "0.0",
         "194",
         "72",
         "178",
         "499",
         "4546"
        ],
        [
         "282",
         "2873212765",
         "4/29/2016",
         "7365",
         "4.94999980926514",
         "4.94999980926514",
         "0.0",
         "1.36000001430511",
         "1.4099999666214",
         "2.1800000667572",
         "0.0",
         "20",
         "23",
         "206",
         "1191",
         "1780"
        ],
        [
         "922",
         "8877689391",
         "4/25/2016",
         "12986",
         "8.73999977111816",
         "8.73999977111816",
         "0.0",
         "2.36999988555908",
         "0.0700000002980232",
         "6.26999998092651",
         "0.0099999997764825",
         "113",
         "8",
         "218",
         "1101",
         "3802"
        ],
        [
         "259",
         "2347167796",
         "4/24/2016",
         "9471",
         "6.26000022888184",
         "6.26000022888184",
         "0.0",
         "0.0",
         "0.0",
         "6.26000022888184",
         "0.0",
         "0",
         "0",
         "360",
         "584",
         "2187"
        ]
       ],
       "shape": {
        "columns": 15,
        "rows": 5
       }
      },
      "text/html": [
       "<div>\n",
       "<style scoped>\n",
       "    .dataframe tbody tr th:only-of-type {\n",
       "        vertical-align: middle;\n",
       "    }\n",
       "\n",
       "    .dataframe tbody tr th {\n",
       "        vertical-align: top;\n",
       "    }\n",
       "\n",
       "    .dataframe thead th {\n",
       "        text-align: right;\n",
       "    }\n",
       "</style>\n",
       "<table border=\"1\" class=\"dataframe\">\n",
       "  <thead>\n",
       "    <tr style=\"text-align: right;\">\n",
       "      <th></th>\n",
       "      <th>Id</th>\n",
       "      <th>ActivityDate</th>\n",
       "      <th>TotalSteps</th>\n",
       "      <th>TotalDistance</th>\n",
       "      <th>TrackerDistance</th>\n",
       "      <th>LoggedActivitiesDistance</th>\n",
       "      <th>VeryActiveDistance</th>\n",
       "      <th>ModeratelyActiveDistance</th>\n",
       "      <th>LightActiveDistance</th>\n",
       "      <th>SedentaryActiveDistance</th>\n",
       "      <th>VeryActiveMinutes</th>\n",
       "      <th>FairlyActiveMinutes</th>\n",
       "      <th>LightlyActiveMinutes</th>\n",
       "      <th>SedentaryMinutes</th>\n",
       "      <th>Calories</th>\n",
       "    </tr>\n",
       "  </thead>\n",
       "  <tbody>\n",
       "    <tr>\n",
       "      <th>3</th>\n",
       "      <td>1503960366</td>\n",
       "      <td>4/15/2016</td>\n",
       "      <td>9762</td>\n",
       "      <td>6.28</td>\n",
       "      <td>6.28</td>\n",
       "      <td>0.0</td>\n",
       "      <td>2.14</td>\n",
       "      <td>1.26</td>\n",
       "      <td>2.83</td>\n",
       "      <td>0.00</td>\n",
       "      <td>29</td>\n",
       "      <td>34</td>\n",
       "      <td>209</td>\n",
       "      <td>726</td>\n",
       "      <td>1745</td>\n",
       "    </tr>\n",
       "    <tr>\n",
       "      <th>586</th>\n",
       "      <td>5577150313</td>\n",
       "      <td>5/1/2016</td>\n",
       "      <td>13368</td>\n",
       "      <td>9.99</td>\n",
       "      <td>9.99</td>\n",
       "      <td>0.0</td>\n",
       "      <td>5.31</td>\n",
       "      <td>1.44</td>\n",
       "      <td>3.24</td>\n",
       "      <td>0.00</td>\n",
       "      <td>194</td>\n",
       "      <td>72</td>\n",
       "      <td>178</td>\n",
       "      <td>499</td>\n",
       "      <td>4546</td>\n",
       "    </tr>\n",
       "    <tr>\n",
       "      <th>282</th>\n",
       "      <td>2873212765</td>\n",
       "      <td>4/29/2016</td>\n",
       "      <td>7365</td>\n",
       "      <td>4.95</td>\n",
       "      <td>4.95</td>\n",
       "      <td>0.0</td>\n",
       "      <td>1.36</td>\n",
       "      <td>1.41</td>\n",
       "      <td>2.18</td>\n",
       "      <td>0.00</td>\n",
       "      <td>20</td>\n",
       "      <td>23</td>\n",
       "      <td>206</td>\n",
       "      <td>1191</td>\n",
       "      <td>1780</td>\n",
       "    </tr>\n",
       "    <tr>\n",
       "      <th>922</th>\n",
       "      <td>8877689391</td>\n",
       "      <td>4/25/2016</td>\n",
       "      <td>12986</td>\n",
       "      <td>8.74</td>\n",
       "      <td>8.74</td>\n",
       "      <td>0.0</td>\n",
       "      <td>2.37</td>\n",
       "      <td>0.07</td>\n",
       "      <td>6.27</td>\n",
       "      <td>0.01</td>\n",
       "      <td>113</td>\n",
       "      <td>8</td>\n",
       "      <td>218</td>\n",
       "      <td>1101</td>\n",
       "      <td>3802</td>\n",
       "    </tr>\n",
       "    <tr>\n",
       "      <th>259</th>\n",
       "      <td>2347167796</td>\n",
       "      <td>4/24/2016</td>\n",
       "      <td>9471</td>\n",
       "      <td>6.26</td>\n",
       "      <td>6.26</td>\n",
       "      <td>0.0</td>\n",
       "      <td>0.00</td>\n",
       "      <td>0.00</td>\n",
       "      <td>6.26</td>\n",
       "      <td>0.00</td>\n",
       "      <td>0</td>\n",
       "      <td>0</td>\n",
       "      <td>360</td>\n",
       "      <td>584</td>\n",
       "      <td>2187</td>\n",
       "    </tr>\n",
       "  </tbody>\n",
       "</table>\n",
       "</div>"
      ],
      "text/plain": [
       "             Id ActivityDate  TotalSteps  TotalDistance  TrackerDistance  \\\n",
       "3    1503960366    4/15/2016        9762           6.28             6.28   \n",
       "586  5577150313     5/1/2016       13368           9.99             9.99   \n",
       "282  2873212765    4/29/2016        7365           4.95             4.95   \n",
       "922  8877689391    4/25/2016       12986           8.74             8.74   \n",
       "259  2347167796    4/24/2016        9471           6.26             6.26   \n",
       "\n",
       "     LoggedActivitiesDistance  VeryActiveDistance  ModeratelyActiveDistance  \\\n",
       "3                         0.0                2.14                      1.26   \n",
       "586                       0.0                5.31                      1.44   \n",
       "282                       0.0                1.36                      1.41   \n",
       "922                       0.0                2.37                      0.07   \n",
       "259                       0.0                0.00                      0.00   \n",
       "\n",
       "     LightActiveDistance  SedentaryActiveDistance  VeryActiveMinutes  \\\n",
       "3                   2.83                     0.00                 29   \n",
       "586                 3.24                     0.00                194   \n",
       "282                 2.18                     0.00                 20   \n",
       "922                 6.27                     0.01                113   \n",
       "259                 6.26                     0.00                  0   \n",
       "\n",
       "     FairlyActiveMinutes  LightlyActiveMinutes  SedentaryMinutes  Calories  \n",
       "3                     34                   209               726      1745  \n",
       "586                   72                   178               499      4546  \n",
       "282                   23                   206              1191      1780  \n",
       "922                    8                   218              1101      3802  \n",
       "259                    0                   360               584      2187  "
      ]
     },
     "execution_count": 417,
     "metadata": {},
     "output_type": "execute_result"
    }
   ],
   "source": [
    "dailyActivity.sample(5)"
   ]
  },
  {
   "cell_type": "markdown",
   "id": "62a1c6a6",
   "metadata": {},
   "source": [
    "#### `hourlyIntensities`"
   ]
  },
  {
   "cell_type": "code",
   "execution_count": 418,
   "id": "bf00c2a5",
   "metadata": {},
   "outputs": [
    {
     "data": {
      "application/vnd.microsoft.datawrangler.viewer.v0+json": {
       "columns": [
        {
         "name": "index",
         "rawType": "int64",
         "type": "integer"
        },
        {
         "name": "Id",
         "rawType": "int64",
         "type": "integer"
        },
        {
         "name": "ActivityHour",
         "rawType": "object",
         "type": "string"
        },
        {
         "name": "TotalIntensity",
         "rawType": "int64",
         "type": "integer"
        },
        {
         "name": "AverageIntensity",
         "rawType": "float64",
         "type": "float"
        }
       ],
       "ref": "760f0ce6-88be-491d-abdf-e8e039d64855",
       "rows": [
        [
         "0",
         "1503960366",
         "4/12/2016 12:00:00 AM",
         "20",
         "0.333333"
        ],
        [
         "1",
         "1503960366",
         "4/12/2016 1:00:00 AM",
         "8",
         "0.133333"
        ],
        [
         "2",
         "1503960366",
         "4/12/2016 2:00:00 AM",
         "7",
         "0.116667"
        ],
        [
         "3",
         "1503960366",
         "4/12/2016 3:00:00 AM",
         "0",
         "0.0"
        ],
        [
         "4",
         "1503960366",
         "4/12/2016 4:00:00 AM",
         "0",
         "0.0"
        ]
       ],
       "shape": {
        "columns": 4,
        "rows": 5
       }
      },
      "text/html": [
       "<div>\n",
       "<style scoped>\n",
       "    .dataframe tbody tr th:only-of-type {\n",
       "        vertical-align: middle;\n",
       "    }\n",
       "\n",
       "    .dataframe tbody tr th {\n",
       "        vertical-align: top;\n",
       "    }\n",
       "\n",
       "    .dataframe thead th {\n",
       "        text-align: right;\n",
       "    }\n",
       "</style>\n",
       "<table border=\"1\" class=\"dataframe\">\n",
       "  <thead>\n",
       "    <tr style=\"text-align: right;\">\n",
       "      <th></th>\n",
       "      <th>Id</th>\n",
       "      <th>ActivityHour</th>\n",
       "      <th>TotalIntensity</th>\n",
       "      <th>AverageIntensity</th>\n",
       "    </tr>\n",
       "  </thead>\n",
       "  <tbody>\n",
       "    <tr>\n",
       "      <th>0</th>\n",
       "      <td>1503960366</td>\n",
       "      <td>4/12/2016 12:00:00 AM</td>\n",
       "      <td>20</td>\n",
       "      <td>0.333333</td>\n",
       "    </tr>\n",
       "    <tr>\n",
       "      <th>1</th>\n",
       "      <td>1503960366</td>\n",
       "      <td>4/12/2016 1:00:00 AM</td>\n",
       "      <td>8</td>\n",
       "      <td>0.133333</td>\n",
       "    </tr>\n",
       "    <tr>\n",
       "      <th>2</th>\n",
       "      <td>1503960366</td>\n",
       "      <td>4/12/2016 2:00:00 AM</td>\n",
       "      <td>7</td>\n",
       "      <td>0.116667</td>\n",
       "    </tr>\n",
       "    <tr>\n",
       "      <th>3</th>\n",
       "      <td>1503960366</td>\n",
       "      <td>4/12/2016 3:00:00 AM</td>\n",
       "      <td>0</td>\n",
       "      <td>0.000000</td>\n",
       "    </tr>\n",
       "    <tr>\n",
       "      <th>4</th>\n",
       "      <td>1503960366</td>\n",
       "      <td>4/12/2016 4:00:00 AM</td>\n",
       "      <td>0</td>\n",
       "      <td>0.000000</td>\n",
       "    </tr>\n",
       "  </tbody>\n",
       "</table>\n",
       "</div>"
      ],
      "text/plain": [
       "           Id           ActivityHour  TotalIntensity  AverageIntensity\n",
       "0  1503960366  4/12/2016 12:00:00 AM              20          0.333333\n",
       "1  1503960366   4/12/2016 1:00:00 AM               8          0.133333\n",
       "2  1503960366   4/12/2016 2:00:00 AM               7          0.116667\n",
       "3  1503960366   4/12/2016 3:00:00 AM               0          0.000000\n",
       "4  1503960366   4/12/2016 4:00:00 AM               0          0.000000"
      ]
     },
     "execution_count": 418,
     "metadata": {},
     "output_type": "execute_result"
    }
   ],
   "source": [
    "hourlyIntensities.head()"
   ]
  },
  {
   "cell_type": "code",
   "execution_count": 419,
   "id": "bd80acf2",
   "metadata": {},
   "outputs": [
    {
     "data": {
      "application/vnd.microsoft.datawrangler.viewer.v0+json": {
       "columns": [
        {
         "name": "index",
         "rawType": "int64",
         "type": "integer"
        },
        {
         "name": "Id",
         "rawType": "int64",
         "type": "integer"
        },
        {
         "name": "ActivityHour",
         "rawType": "object",
         "type": "string"
        },
        {
         "name": "TotalIntensity",
         "rawType": "int64",
         "type": "integer"
        },
        {
         "name": "AverageIntensity",
         "rawType": "float64",
         "type": "float"
        }
       ],
       "ref": "f7e737a1-1cc3-44c9-a47f-562db30fe94b",
       "rows": [
        [
         "22094",
         "8877689391",
         "5/12/2016 10:00:00 AM",
         "12",
         "0.2"
        ],
        [
         "22095",
         "8877689391",
         "5/12/2016 11:00:00 AM",
         "29",
         "0.483333"
        ],
        [
         "22096",
         "8877689391",
         "5/12/2016 12:00:00 PM",
         "93",
         "1.55"
        ],
        [
         "22097",
         "8877689391",
         "5/12/2016 1:00:00 PM",
         "6",
         "0.1"
        ],
        [
         "22098",
         "8877689391",
         "5/12/2016 2:00:00 PM",
         "9",
         "0.15"
        ]
       ],
       "shape": {
        "columns": 4,
        "rows": 5
       }
      },
      "text/html": [
       "<div>\n",
       "<style scoped>\n",
       "    .dataframe tbody tr th:only-of-type {\n",
       "        vertical-align: middle;\n",
       "    }\n",
       "\n",
       "    .dataframe tbody tr th {\n",
       "        vertical-align: top;\n",
       "    }\n",
       "\n",
       "    .dataframe thead th {\n",
       "        text-align: right;\n",
       "    }\n",
       "</style>\n",
       "<table border=\"1\" class=\"dataframe\">\n",
       "  <thead>\n",
       "    <tr style=\"text-align: right;\">\n",
       "      <th></th>\n",
       "      <th>Id</th>\n",
       "      <th>ActivityHour</th>\n",
       "      <th>TotalIntensity</th>\n",
       "      <th>AverageIntensity</th>\n",
       "    </tr>\n",
       "  </thead>\n",
       "  <tbody>\n",
       "    <tr>\n",
       "      <th>22094</th>\n",
       "      <td>8877689391</td>\n",
       "      <td>5/12/2016 10:00:00 AM</td>\n",
       "      <td>12</td>\n",
       "      <td>0.200000</td>\n",
       "    </tr>\n",
       "    <tr>\n",
       "      <th>22095</th>\n",
       "      <td>8877689391</td>\n",
       "      <td>5/12/2016 11:00:00 AM</td>\n",
       "      <td>29</td>\n",
       "      <td>0.483333</td>\n",
       "    </tr>\n",
       "    <tr>\n",
       "      <th>22096</th>\n",
       "      <td>8877689391</td>\n",
       "      <td>5/12/2016 12:00:00 PM</td>\n",
       "      <td>93</td>\n",
       "      <td>1.550000</td>\n",
       "    </tr>\n",
       "    <tr>\n",
       "      <th>22097</th>\n",
       "      <td>8877689391</td>\n",
       "      <td>5/12/2016 1:00:00 PM</td>\n",
       "      <td>6</td>\n",
       "      <td>0.100000</td>\n",
       "    </tr>\n",
       "    <tr>\n",
       "      <th>22098</th>\n",
       "      <td>8877689391</td>\n",
       "      <td>5/12/2016 2:00:00 PM</td>\n",
       "      <td>9</td>\n",
       "      <td>0.150000</td>\n",
       "    </tr>\n",
       "  </tbody>\n",
       "</table>\n",
       "</div>"
      ],
      "text/plain": [
       "               Id           ActivityHour  TotalIntensity  AverageIntensity\n",
       "22094  8877689391  5/12/2016 10:00:00 AM              12          0.200000\n",
       "22095  8877689391  5/12/2016 11:00:00 AM              29          0.483333\n",
       "22096  8877689391  5/12/2016 12:00:00 PM              93          1.550000\n",
       "22097  8877689391   5/12/2016 1:00:00 PM               6          0.100000\n",
       "22098  8877689391   5/12/2016 2:00:00 PM               9          0.150000"
      ]
     },
     "execution_count": 419,
     "metadata": {},
     "output_type": "execute_result"
    }
   ],
   "source": [
    "hourlyIntensities.tail()"
   ]
  },
  {
   "cell_type": "code",
   "execution_count": 420,
   "id": "fa2bfeea",
   "metadata": {},
   "outputs": [
    {
     "data": {
      "application/vnd.microsoft.datawrangler.viewer.v0+json": {
       "columns": [
        {
         "name": "index",
         "rawType": "int64",
         "type": "integer"
        },
        {
         "name": "Id",
         "rawType": "int64",
         "type": "integer"
        },
        {
         "name": "ActivityHour",
         "rawType": "object",
         "type": "string"
        },
        {
         "name": "TotalIntensity",
         "rawType": "int64",
         "type": "integer"
        },
        {
         "name": "AverageIntensity",
         "rawType": "float64",
         "type": "float"
        }
       ],
       "ref": "406a5d4f-20d1-436d-a6b2-52f105caf068",
       "rows": [
        [
         "1479",
         "1644430081",
         "4/13/2016 2:00:00 AM",
         "0",
         "0.0"
        ],
        [
         "20200",
         "8583815059",
         "4/21/2016 10:00:00 AM",
         "15",
         "0.25"
        ],
        [
         "20106",
         "8583815059",
         "4/17/2016 12:00:00 PM",
         "0",
         "0.0"
        ],
        [
         "3288",
         "1927972279",
         "4/28/2016 12:00:00 PM",
         "1",
         "0.016667"
        ],
        [
         "17961",
         "7086361926",
         "5/7/2016 9:00:00 PM",
         "34",
         "0.566667"
        ]
       ],
       "shape": {
        "columns": 4,
        "rows": 5
       }
      },
      "text/html": [
       "<div>\n",
       "<style scoped>\n",
       "    .dataframe tbody tr th:only-of-type {\n",
       "        vertical-align: middle;\n",
       "    }\n",
       "\n",
       "    .dataframe tbody tr th {\n",
       "        vertical-align: top;\n",
       "    }\n",
       "\n",
       "    .dataframe thead th {\n",
       "        text-align: right;\n",
       "    }\n",
       "</style>\n",
       "<table border=\"1\" class=\"dataframe\">\n",
       "  <thead>\n",
       "    <tr style=\"text-align: right;\">\n",
       "      <th></th>\n",
       "      <th>Id</th>\n",
       "      <th>ActivityHour</th>\n",
       "      <th>TotalIntensity</th>\n",
       "      <th>AverageIntensity</th>\n",
       "    </tr>\n",
       "  </thead>\n",
       "  <tbody>\n",
       "    <tr>\n",
       "      <th>1479</th>\n",
       "      <td>1644430081</td>\n",
       "      <td>4/13/2016 2:00:00 AM</td>\n",
       "      <td>0</td>\n",
       "      <td>0.000000</td>\n",
       "    </tr>\n",
       "    <tr>\n",
       "      <th>20200</th>\n",
       "      <td>8583815059</td>\n",
       "      <td>4/21/2016 10:00:00 AM</td>\n",
       "      <td>15</td>\n",
       "      <td>0.250000</td>\n",
       "    </tr>\n",
       "    <tr>\n",
       "      <th>20106</th>\n",
       "      <td>8583815059</td>\n",
       "      <td>4/17/2016 12:00:00 PM</td>\n",
       "      <td>0</td>\n",
       "      <td>0.000000</td>\n",
       "    </tr>\n",
       "    <tr>\n",
       "      <th>3288</th>\n",
       "      <td>1927972279</td>\n",
       "      <td>4/28/2016 12:00:00 PM</td>\n",
       "      <td>1</td>\n",
       "      <td>0.016667</td>\n",
       "    </tr>\n",
       "    <tr>\n",
       "      <th>17961</th>\n",
       "      <td>7086361926</td>\n",
       "      <td>5/7/2016 9:00:00 PM</td>\n",
       "      <td>34</td>\n",
       "      <td>0.566667</td>\n",
       "    </tr>\n",
       "  </tbody>\n",
       "</table>\n",
       "</div>"
      ],
      "text/plain": [
       "               Id           ActivityHour  TotalIntensity  AverageIntensity\n",
       "1479   1644430081   4/13/2016 2:00:00 AM               0          0.000000\n",
       "20200  8583815059  4/21/2016 10:00:00 AM              15          0.250000\n",
       "20106  8583815059  4/17/2016 12:00:00 PM               0          0.000000\n",
       "3288   1927972279  4/28/2016 12:00:00 PM               1          0.016667\n",
       "17961  7086361926    5/7/2016 9:00:00 PM              34          0.566667"
      ]
     },
     "execution_count": 420,
     "metadata": {},
     "output_type": "execute_result"
    }
   ],
   "source": [
    "hourlyIntensities.sample(5)"
   ]
  },
  {
   "cell_type": "markdown",
   "id": "5e650f48",
   "metadata": {},
   "source": [
    "#### `sleepDay`"
   ]
  },
  {
   "cell_type": "code",
   "execution_count": 421,
   "id": "a73dd414",
   "metadata": {},
   "outputs": [
    {
     "data": {
      "application/vnd.microsoft.datawrangler.viewer.v0+json": {
       "columns": [
        {
         "name": "index",
         "rawType": "int64",
         "type": "integer"
        },
        {
         "name": "Id",
         "rawType": "int64",
         "type": "integer"
        },
        {
         "name": "SleepDay",
         "rawType": "object",
         "type": "string"
        },
        {
         "name": "TotalSleepRecords",
         "rawType": "int64",
         "type": "integer"
        },
        {
         "name": "TotalMinutesAsleep",
         "rawType": "int64",
         "type": "integer"
        },
        {
         "name": "TotalTimeInBed",
         "rawType": "int64",
         "type": "integer"
        }
       ],
       "ref": "0ff2789b-41d2-4b4e-be43-ea4a07ad6f43",
       "rows": [
        [
         "0",
         "1503960366",
         "4/12/2016 12:00:00 AM",
         "1",
         "327",
         "346"
        ],
        [
         "1",
         "1503960366",
         "4/13/2016 12:00:00 AM",
         "2",
         "384",
         "407"
        ],
        [
         "2",
         "1503960366",
         "4/15/2016 12:00:00 AM",
         "1",
         "412",
         "442"
        ],
        [
         "3",
         "1503960366",
         "4/16/2016 12:00:00 AM",
         "2",
         "340",
         "367"
        ],
        [
         "4",
         "1503960366",
         "4/17/2016 12:00:00 AM",
         "1",
         "700",
         "712"
        ]
       ],
       "shape": {
        "columns": 5,
        "rows": 5
       }
      },
      "text/html": [
       "<div>\n",
       "<style scoped>\n",
       "    .dataframe tbody tr th:only-of-type {\n",
       "        vertical-align: middle;\n",
       "    }\n",
       "\n",
       "    .dataframe tbody tr th {\n",
       "        vertical-align: top;\n",
       "    }\n",
       "\n",
       "    .dataframe thead th {\n",
       "        text-align: right;\n",
       "    }\n",
       "</style>\n",
       "<table border=\"1\" class=\"dataframe\">\n",
       "  <thead>\n",
       "    <tr style=\"text-align: right;\">\n",
       "      <th></th>\n",
       "      <th>Id</th>\n",
       "      <th>SleepDay</th>\n",
       "      <th>TotalSleepRecords</th>\n",
       "      <th>TotalMinutesAsleep</th>\n",
       "      <th>TotalTimeInBed</th>\n",
       "    </tr>\n",
       "  </thead>\n",
       "  <tbody>\n",
       "    <tr>\n",
       "      <th>0</th>\n",
       "      <td>1503960366</td>\n",
       "      <td>4/12/2016 12:00:00 AM</td>\n",
       "      <td>1</td>\n",
       "      <td>327</td>\n",
       "      <td>346</td>\n",
       "    </tr>\n",
       "    <tr>\n",
       "      <th>1</th>\n",
       "      <td>1503960366</td>\n",
       "      <td>4/13/2016 12:00:00 AM</td>\n",
       "      <td>2</td>\n",
       "      <td>384</td>\n",
       "      <td>407</td>\n",
       "    </tr>\n",
       "    <tr>\n",
       "      <th>2</th>\n",
       "      <td>1503960366</td>\n",
       "      <td>4/15/2016 12:00:00 AM</td>\n",
       "      <td>1</td>\n",
       "      <td>412</td>\n",
       "      <td>442</td>\n",
       "    </tr>\n",
       "    <tr>\n",
       "      <th>3</th>\n",
       "      <td>1503960366</td>\n",
       "      <td>4/16/2016 12:00:00 AM</td>\n",
       "      <td>2</td>\n",
       "      <td>340</td>\n",
       "      <td>367</td>\n",
       "    </tr>\n",
       "    <tr>\n",
       "      <th>4</th>\n",
       "      <td>1503960366</td>\n",
       "      <td>4/17/2016 12:00:00 AM</td>\n",
       "      <td>1</td>\n",
       "      <td>700</td>\n",
       "      <td>712</td>\n",
       "    </tr>\n",
       "  </tbody>\n",
       "</table>\n",
       "</div>"
      ],
      "text/plain": [
       "           Id               SleepDay  TotalSleepRecords  TotalMinutesAsleep  \\\n",
       "0  1503960366  4/12/2016 12:00:00 AM                  1                 327   \n",
       "1  1503960366  4/13/2016 12:00:00 AM                  2                 384   \n",
       "2  1503960366  4/15/2016 12:00:00 AM                  1                 412   \n",
       "3  1503960366  4/16/2016 12:00:00 AM                  2                 340   \n",
       "4  1503960366  4/17/2016 12:00:00 AM                  1                 700   \n",
       "\n",
       "   TotalTimeInBed  \n",
       "0             346  \n",
       "1             407  \n",
       "2             442  \n",
       "3             367  \n",
       "4             712  "
      ]
     },
     "execution_count": 421,
     "metadata": {},
     "output_type": "execute_result"
    }
   ],
   "source": [
    "sleepDay.head()"
   ]
  },
  {
   "cell_type": "code",
   "execution_count": 422,
   "id": "f561f261",
   "metadata": {},
   "outputs": [
    {
     "data": {
      "application/vnd.microsoft.datawrangler.viewer.v0+json": {
       "columns": [
        {
         "name": "index",
         "rawType": "int64",
         "type": "integer"
        },
        {
         "name": "Id",
         "rawType": "int64",
         "type": "integer"
        },
        {
         "name": "SleepDay",
         "rawType": "object",
         "type": "string"
        },
        {
         "name": "TotalSleepRecords",
         "rawType": "int64",
         "type": "integer"
        },
        {
         "name": "TotalMinutesAsleep",
         "rawType": "int64",
         "type": "integer"
        },
        {
         "name": "TotalTimeInBed",
         "rawType": "int64",
         "type": "integer"
        }
       ],
       "ref": "3ce372e7-cf86-433a-9c75-6d82dca7c1b7",
       "rows": [
        [
         "408",
         "8792009665",
         "4/30/2016 12:00:00 AM",
         "1",
         "343",
         "360"
        ],
        [
         "409",
         "8792009665",
         "5/1/2016 12:00:00 AM",
         "1",
         "503",
         "527"
        ],
        [
         "410",
         "8792009665",
         "5/2/2016 12:00:00 AM",
         "1",
         "415",
         "423"
        ],
        [
         "411",
         "8792009665",
         "5/3/2016 12:00:00 AM",
         "1",
         "516",
         "545"
        ],
        [
         "412",
         "8792009665",
         "5/4/2016 12:00:00 AM",
         "1",
         "439",
         "463"
        ]
       ],
       "shape": {
        "columns": 5,
        "rows": 5
       }
      },
      "text/html": [
       "<div>\n",
       "<style scoped>\n",
       "    .dataframe tbody tr th:only-of-type {\n",
       "        vertical-align: middle;\n",
       "    }\n",
       "\n",
       "    .dataframe tbody tr th {\n",
       "        vertical-align: top;\n",
       "    }\n",
       "\n",
       "    .dataframe thead th {\n",
       "        text-align: right;\n",
       "    }\n",
       "</style>\n",
       "<table border=\"1\" class=\"dataframe\">\n",
       "  <thead>\n",
       "    <tr style=\"text-align: right;\">\n",
       "      <th></th>\n",
       "      <th>Id</th>\n",
       "      <th>SleepDay</th>\n",
       "      <th>TotalSleepRecords</th>\n",
       "      <th>TotalMinutesAsleep</th>\n",
       "      <th>TotalTimeInBed</th>\n",
       "    </tr>\n",
       "  </thead>\n",
       "  <tbody>\n",
       "    <tr>\n",
       "      <th>408</th>\n",
       "      <td>8792009665</td>\n",
       "      <td>4/30/2016 12:00:00 AM</td>\n",
       "      <td>1</td>\n",
       "      <td>343</td>\n",
       "      <td>360</td>\n",
       "    </tr>\n",
       "    <tr>\n",
       "      <th>409</th>\n",
       "      <td>8792009665</td>\n",
       "      <td>5/1/2016 12:00:00 AM</td>\n",
       "      <td>1</td>\n",
       "      <td>503</td>\n",
       "      <td>527</td>\n",
       "    </tr>\n",
       "    <tr>\n",
       "      <th>410</th>\n",
       "      <td>8792009665</td>\n",
       "      <td>5/2/2016 12:00:00 AM</td>\n",
       "      <td>1</td>\n",
       "      <td>415</td>\n",
       "      <td>423</td>\n",
       "    </tr>\n",
       "    <tr>\n",
       "      <th>411</th>\n",
       "      <td>8792009665</td>\n",
       "      <td>5/3/2016 12:00:00 AM</td>\n",
       "      <td>1</td>\n",
       "      <td>516</td>\n",
       "      <td>545</td>\n",
       "    </tr>\n",
       "    <tr>\n",
       "      <th>412</th>\n",
       "      <td>8792009665</td>\n",
       "      <td>5/4/2016 12:00:00 AM</td>\n",
       "      <td>1</td>\n",
       "      <td>439</td>\n",
       "      <td>463</td>\n",
       "    </tr>\n",
       "  </tbody>\n",
       "</table>\n",
       "</div>"
      ],
      "text/plain": [
       "             Id               SleepDay  TotalSleepRecords  TotalMinutesAsleep  \\\n",
       "408  8792009665  4/30/2016 12:00:00 AM                  1                 343   \n",
       "409  8792009665   5/1/2016 12:00:00 AM                  1                 503   \n",
       "410  8792009665   5/2/2016 12:00:00 AM                  1                 415   \n",
       "411  8792009665   5/3/2016 12:00:00 AM                  1                 516   \n",
       "412  8792009665   5/4/2016 12:00:00 AM                  1                 439   \n",
       "\n",
       "     TotalTimeInBed  \n",
       "408             360  \n",
       "409             527  \n",
       "410             423  \n",
       "411             545  \n",
       "412             463  "
      ]
     },
     "execution_count": 422,
     "metadata": {},
     "output_type": "execute_result"
    }
   ],
   "source": [
    "sleepDay.tail()"
   ]
  },
  {
   "cell_type": "code",
   "execution_count": 423,
   "id": "237aaeaf",
   "metadata": {},
   "outputs": [
    {
     "data": {
      "application/vnd.microsoft.datawrangler.viewer.v0+json": {
       "columns": [
        {
         "name": "index",
         "rawType": "int64",
         "type": "integer"
        },
        {
         "name": "Id",
         "rawType": "int64",
         "type": "integer"
        },
        {
         "name": "SleepDay",
         "rawType": "object",
         "type": "string"
        },
        {
         "name": "TotalSleepRecords",
         "rawType": "int64",
         "type": "integer"
        },
        {
         "name": "TotalMinutesAsleep",
         "rawType": "int64",
         "type": "integer"
        },
        {
         "name": "TotalTimeInBed",
         "rawType": "int64",
         "type": "integer"
        }
       ],
       "ref": "c5e08cb0-1910-4177-b74f-aee112084966",
       "rows": [
        [
         "16",
         "1503960366",
         "5/2/2016 12:00:00 AM",
         "1",
         "277",
         "309"
        ],
        [
         "89",
         "3977333714",
         "4/20/2016 12:00:00 AM",
         "2",
         "152",
         "305"
        ],
        [
         "214",
         "4702921684",
         "4/27/2016 12:00:00 AM",
         "1",
         "432",
         "449"
        ],
        [
         "371",
         "8378563200",
         "4/17/2016 12:00:00 AM",
         "2",
         "525",
         "591"
        ],
        [
         "311",
         "6962181067",
         "4/17/2016 12:00:00 AM",
         "1",
         "427",
         "446"
        ]
       ],
       "shape": {
        "columns": 5,
        "rows": 5
       }
      },
      "text/html": [
       "<div>\n",
       "<style scoped>\n",
       "    .dataframe tbody tr th:only-of-type {\n",
       "        vertical-align: middle;\n",
       "    }\n",
       "\n",
       "    .dataframe tbody tr th {\n",
       "        vertical-align: top;\n",
       "    }\n",
       "\n",
       "    .dataframe thead th {\n",
       "        text-align: right;\n",
       "    }\n",
       "</style>\n",
       "<table border=\"1\" class=\"dataframe\">\n",
       "  <thead>\n",
       "    <tr style=\"text-align: right;\">\n",
       "      <th></th>\n",
       "      <th>Id</th>\n",
       "      <th>SleepDay</th>\n",
       "      <th>TotalSleepRecords</th>\n",
       "      <th>TotalMinutesAsleep</th>\n",
       "      <th>TotalTimeInBed</th>\n",
       "    </tr>\n",
       "  </thead>\n",
       "  <tbody>\n",
       "    <tr>\n",
       "      <th>16</th>\n",
       "      <td>1503960366</td>\n",
       "      <td>5/2/2016 12:00:00 AM</td>\n",
       "      <td>1</td>\n",
       "      <td>277</td>\n",
       "      <td>309</td>\n",
       "    </tr>\n",
       "    <tr>\n",
       "      <th>89</th>\n",
       "      <td>3977333714</td>\n",
       "      <td>4/20/2016 12:00:00 AM</td>\n",
       "      <td>2</td>\n",
       "      <td>152</td>\n",
       "      <td>305</td>\n",
       "    </tr>\n",
       "    <tr>\n",
       "      <th>214</th>\n",
       "      <td>4702921684</td>\n",
       "      <td>4/27/2016 12:00:00 AM</td>\n",
       "      <td>1</td>\n",
       "      <td>432</td>\n",
       "      <td>449</td>\n",
       "    </tr>\n",
       "    <tr>\n",
       "      <th>371</th>\n",
       "      <td>8378563200</td>\n",
       "      <td>4/17/2016 12:00:00 AM</td>\n",
       "      <td>2</td>\n",
       "      <td>525</td>\n",
       "      <td>591</td>\n",
       "    </tr>\n",
       "    <tr>\n",
       "      <th>311</th>\n",
       "      <td>6962181067</td>\n",
       "      <td>4/17/2016 12:00:00 AM</td>\n",
       "      <td>1</td>\n",
       "      <td>427</td>\n",
       "      <td>446</td>\n",
       "    </tr>\n",
       "  </tbody>\n",
       "</table>\n",
       "</div>"
      ],
      "text/plain": [
       "             Id               SleepDay  TotalSleepRecords  TotalMinutesAsleep  \\\n",
       "16   1503960366   5/2/2016 12:00:00 AM                  1                 277   \n",
       "89   3977333714  4/20/2016 12:00:00 AM                  2                 152   \n",
       "214  4702921684  4/27/2016 12:00:00 AM                  1                 432   \n",
       "371  8378563200  4/17/2016 12:00:00 AM                  2                 525   \n",
       "311  6962181067  4/17/2016 12:00:00 AM                  1                 427   \n",
       "\n",
       "     TotalTimeInBed  \n",
       "16              309  \n",
       "89              305  \n",
       "214             449  \n",
       "371             591  \n",
       "311             446  "
      ]
     },
     "execution_count": 423,
     "metadata": {},
     "output_type": "execute_result"
    }
   ],
   "source": [
    "sleepDay.sample(5)"
   ]
  },
  {
   "cell_type": "markdown",
   "id": "3f49876d",
   "metadata": {},
   "source": [
    "#### `weightLog`"
   ]
  },
  {
   "cell_type": "code",
   "execution_count": 424,
   "id": "723aec3f",
   "metadata": {},
   "outputs": [
    {
     "data": {
      "application/vnd.microsoft.datawrangler.viewer.v0+json": {
       "columns": [
        {
         "name": "index",
         "rawType": "int64",
         "type": "integer"
        },
        {
         "name": "Id",
         "rawType": "int64",
         "type": "integer"
        },
        {
         "name": "Date",
         "rawType": "object",
         "type": "string"
        },
        {
         "name": "WeightKg",
         "rawType": "float64",
         "type": "float"
        },
        {
         "name": "WeightPounds",
         "rawType": "float64",
         "type": "float"
        },
        {
         "name": "Fat",
         "rawType": "float64",
         "type": "float"
        },
        {
         "name": "BMI",
         "rawType": "float64",
         "type": "float"
        },
        {
         "name": "IsManualReport",
         "rawType": "bool",
         "type": "boolean"
        },
        {
         "name": "LogId",
         "rawType": "int64",
         "type": "integer"
        }
       ],
       "ref": "384f3e0b-5437-4677-99e9-83bfd92ddb64",
       "rows": [
        [
         "0",
         "1503960366",
         "5/2/2016 11:59:59 PM",
         "52.5999984741211",
         "115.963146545323",
         "22.0",
         "22.6499996185303",
         "True",
         "1462233599000"
        ],
        [
         "1",
         "1503960366",
         "5/3/2016 11:59:59 PM",
         "52.5999984741211",
         "115.963146545323",
         null,
         "22.6499996185303",
         "True",
         "1462319999000"
        ],
        [
         "2",
         "1927972279",
         "4/13/2016 1:08:52 AM",
         "133.5",
         "294.317120016975",
         null,
         "47.5400009155273",
         "False",
         "1460509732000"
        ],
        [
         "3",
         "2873212765",
         "4/21/2016 11:59:59 PM",
         "56.7000007629395",
         "125.002104340889",
         null,
         "21.4500007629395",
         "True",
         "1461283199000"
        ],
        [
         "4",
         "2873212765",
         "5/12/2016 11:59:59 PM",
         "57.2999992370605",
         "126.324874550011",
         null,
         "21.6900005340576",
         "True",
         "1463097599000"
        ]
       ],
       "shape": {
        "columns": 8,
        "rows": 5
       }
      },
      "text/html": [
       "<div>\n",
       "<style scoped>\n",
       "    .dataframe tbody tr th:only-of-type {\n",
       "        vertical-align: middle;\n",
       "    }\n",
       "\n",
       "    .dataframe tbody tr th {\n",
       "        vertical-align: top;\n",
       "    }\n",
       "\n",
       "    .dataframe thead th {\n",
       "        text-align: right;\n",
       "    }\n",
       "</style>\n",
       "<table border=\"1\" class=\"dataframe\">\n",
       "  <thead>\n",
       "    <tr style=\"text-align: right;\">\n",
       "      <th></th>\n",
       "      <th>Id</th>\n",
       "      <th>Date</th>\n",
       "      <th>WeightKg</th>\n",
       "      <th>WeightPounds</th>\n",
       "      <th>Fat</th>\n",
       "      <th>BMI</th>\n",
       "      <th>IsManualReport</th>\n",
       "      <th>LogId</th>\n",
       "    </tr>\n",
       "  </thead>\n",
       "  <tbody>\n",
       "    <tr>\n",
       "      <th>0</th>\n",
       "      <td>1503960366</td>\n",
       "      <td>5/2/2016 11:59:59 PM</td>\n",
       "      <td>52.599998</td>\n",
       "      <td>115.963147</td>\n",
       "      <td>22.0</td>\n",
       "      <td>22.650000</td>\n",
       "      <td>True</td>\n",
       "      <td>1462233599000</td>\n",
       "    </tr>\n",
       "    <tr>\n",
       "      <th>1</th>\n",
       "      <td>1503960366</td>\n",
       "      <td>5/3/2016 11:59:59 PM</td>\n",
       "      <td>52.599998</td>\n",
       "      <td>115.963147</td>\n",
       "      <td>NaN</td>\n",
       "      <td>22.650000</td>\n",
       "      <td>True</td>\n",
       "      <td>1462319999000</td>\n",
       "    </tr>\n",
       "    <tr>\n",
       "      <th>2</th>\n",
       "      <td>1927972279</td>\n",
       "      <td>4/13/2016 1:08:52 AM</td>\n",
       "      <td>133.500000</td>\n",
       "      <td>294.317120</td>\n",
       "      <td>NaN</td>\n",
       "      <td>47.540001</td>\n",
       "      <td>False</td>\n",
       "      <td>1460509732000</td>\n",
       "    </tr>\n",
       "    <tr>\n",
       "      <th>3</th>\n",
       "      <td>2873212765</td>\n",
       "      <td>4/21/2016 11:59:59 PM</td>\n",
       "      <td>56.700001</td>\n",
       "      <td>125.002104</td>\n",
       "      <td>NaN</td>\n",
       "      <td>21.450001</td>\n",
       "      <td>True</td>\n",
       "      <td>1461283199000</td>\n",
       "    </tr>\n",
       "    <tr>\n",
       "      <th>4</th>\n",
       "      <td>2873212765</td>\n",
       "      <td>5/12/2016 11:59:59 PM</td>\n",
       "      <td>57.299999</td>\n",
       "      <td>126.324875</td>\n",
       "      <td>NaN</td>\n",
       "      <td>21.690001</td>\n",
       "      <td>True</td>\n",
       "      <td>1463097599000</td>\n",
       "    </tr>\n",
       "  </tbody>\n",
       "</table>\n",
       "</div>"
      ],
      "text/plain": [
       "           Id                   Date    WeightKg  WeightPounds   Fat  \\\n",
       "0  1503960366   5/2/2016 11:59:59 PM   52.599998    115.963147  22.0   \n",
       "1  1503960366   5/3/2016 11:59:59 PM   52.599998    115.963147   NaN   \n",
       "2  1927972279   4/13/2016 1:08:52 AM  133.500000    294.317120   NaN   \n",
       "3  2873212765  4/21/2016 11:59:59 PM   56.700001    125.002104   NaN   \n",
       "4  2873212765  5/12/2016 11:59:59 PM   57.299999    126.324875   NaN   \n",
       "\n",
       "         BMI  IsManualReport          LogId  \n",
       "0  22.650000            True  1462233599000  \n",
       "1  22.650000            True  1462319999000  \n",
       "2  47.540001           False  1460509732000  \n",
       "3  21.450001            True  1461283199000  \n",
       "4  21.690001            True  1463097599000  "
      ]
     },
     "execution_count": 424,
     "metadata": {},
     "output_type": "execute_result"
    }
   ],
   "source": [
    "weightLog.head()"
   ]
  },
  {
   "cell_type": "code",
   "execution_count": 425,
   "id": "2dbbd95d",
   "metadata": {},
   "outputs": [
    {
     "data": {
      "application/vnd.microsoft.datawrangler.viewer.v0+json": {
       "columns": [
        {
         "name": "index",
         "rawType": "int64",
         "type": "integer"
        },
        {
         "name": "Id",
         "rawType": "int64",
         "type": "integer"
        },
        {
         "name": "Date",
         "rawType": "object",
         "type": "string"
        },
        {
         "name": "WeightKg",
         "rawType": "float64",
         "type": "float"
        },
        {
         "name": "WeightPounds",
         "rawType": "float64",
         "type": "float"
        },
        {
         "name": "Fat",
         "rawType": "float64",
         "type": "float"
        },
        {
         "name": "BMI",
         "rawType": "float64",
         "type": "float"
        },
        {
         "name": "IsManualReport",
         "rawType": "bool",
         "type": "boolean"
        },
        {
         "name": "LogId",
         "rawType": "int64",
         "type": "integer"
        }
       ],
       "ref": "86d99542-5f5a-4e77-88ef-c00693fef94d",
       "rows": [
        [
         "62",
         "8877689391",
         "5/6/2016 6:43:35 AM",
         "85.0",
         "187.39292285725",
         null,
         "25.4400005340576",
         "False",
         "1462517015000"
        ],
        [
         "63",
         "8877689391",
         "5/8/2016 7:35:53 AM",
         "85.4000015258789",
         "188.274775269977",
         null,
         "25.5599994659424",
         "False",
         "1462692953000"
        ],
        [
         "64",
         "8877689391",
         "5/9/2016 6:39:44 AM",
         "85.5",
         "188.495234168175",
         null,
         "25.6100006103516",
         "False",
         "1462775984000"
        ],
        [
         "65",
         "8877689391",
         "5/11/2016 6:51:47 AM",
         "85.4000015258789",
         "188.274775269977",
         null,
         "25.5599994659424",
         "False",
         "1462949507000"
        ],
        [
         "66",
         "8877689391",
         "5/12/2016 6:42:53 AM",
         "84.0",
         "185.1883002354",
         null,
         "25.1399993896484",
         "False",
         "1463035373000"
        ]
       ],
       "shape": {
        "columns": 8,
        "rows": 5
       }
      },
      "text/html": [
       "<div>\n",
       "<style scoped>\n",
       "    .dataframe tbody tr th:only-of-type {\n",
       "        vertical-align: middle;\n",
       "    }\n",
       "\n",
       "    .dataframe tbody tr th {\n",
       "        vertical-align: top;\n",
       "    }\n",
       "\n",
       "    .dataframe thead th {\n",
       "        text-align: right;\n",
       "    }\n",
       "</style>\n",
       "<table border=\"1\" class=\"dataframe\">\n",
       "  <thead>\n",
       "    <tr style=\"text-align: right;\">\n",
       "      <th></th>\n",
       "      <th>Id</th>\n",
       "      <th>Date</th>\n",
       "      <th>WeightKg</th>\n",
       "      <th>WeightPounds</th>\n",
       "      <th>Fat</th>\n",
       "      <th>BMI</th>\n",
       "      <th>IsManualReport</th>\n",
       "      <th>LogId</th>\n",
       "    </tr>\n",
       "  </thead>\n",
       "  <tbody>\n",
       "    <tr>\n",
       "      <th>62</th>\n",
       "      <td>8877689391</td>\n",
       "      <td>5/6/2016 6:43:35 AM</td>\n",
       "      <td>85.000000</td>\n",
       "      <td>187.392923</td>\n",
       "      <td>NaN</td>\n",
       "      <td>25.440001</td>\n",
       "      <td>False</td>\n",
       "      <td>1462517015000</td>\n",
       "    </tr>\n",
       "    <tr>\n",
       "      <th>63</th>\n",
       "      <td>8877689391</td>\n",
       "      <td>5/8/2016 7:35:53 AM</td>\n",
       "      <td>85.400002</td>\n",
       "      <td>188.274775</td>\n",
       "      <td>NaN</td>\n",
       "      <td>25.559999</td>\n",
       "      <td>False</td>\n",
       "      <td>1462692953000</td>\n",
       "    </tr>\n",
       "    <tr>\n",
       "      <th>64</th>\n",
       "      <td>8877689391</td>\n",
       "      <td>5/9/2016 6:39:44 AM</td>\n",
       "      <td>85.500000</td>\n",
       "      <td>188.495234</td>\n",
       "      <td>NaN</td>\n",
       "      <td>25.610001</td>\n",
       "      <td>False</td>\n",
       "      <td>1462775984000</td>\n",
       "    </tr>\n",
       "    <tr>\n",
       "      <th>65</th>\n",
       "      <td>8877689391</td>\n",
       "      <td>5/11/2016 6:51:47 AM</td>\n",
       "      <td>85.400002</td>\n",
       "      <td>188.274775</td>\n",
       "      <td>NaN</td>\n",
       "      <td>25.559999</td>\n",
       "      <td>False</td>\n",
       "      <td>1462949507000</td>\n",
       "    </tr>\n",
       "    <tr>\n",
       "      <th>66</th>\n",
       "      <td>8877689391</td>\n",
       "      <td>5/12/2016 6:42:53 AM</td>\n",
       "      <td>84.000000</td>\n",
       "      <td>185.188300</td>\n",
       "      <td>NaN</td>\n",
       "      <td>25.139999</td>\n",
       "      <td>False</td>\n",
       "      <td>1463035373000</td>\n",
       "    </tr>\n",
       "  </tbody>\n",
       "</table>\n",
       "</div>"
      ],
      "text/plain": [
       "            Id                  Date   WeightKg  WeightPounds  Fat        BMI  \\\n",
       "62  8877689391   5/6/2016 6:43:35 AM  85.000000    187.392923  NaN  25.440001   \n",
       "63  8877689391   5/8/2016 7:35:53 AM  85.400002    188.274775  NaN  25.559999   \n",
       "64  8877689391   5/9/2016 6:39:44 AM  85.500000    188.495234  NaN  25.610001   \n",
       "65  8877689391  5/11/2016 6:51:47 AM  85.400002    188.274775  NaN  25.559999   \n",
       "66  8877689391  5/12/2016 6:42:53 AM  84.000000    185.188300  NaN  25.139999   \n",
       "\n",
       "    IsManualReport          LogId  \n",
       "62           False  1462517015000  \n",
       "63           False  1462692953000  \n",
       "64           False  1462775984000  \n",
       "65           False  1462949507000  \n",
       "66           False  1463035373000  "
      ]
     },
     "execution_count": 425,
     "metadata": {},
     "output_type": "execute_result"
    }
   ],
   "source": [
    "weightLog.tail()"
   ]
  },
  {
   "cell_type": "code",
   "execution_count": 426,
   "id": "cf7c56d9",
   "metadata": {},
   "outputs": [
    {
     "data": {
      "application/vnd.microsoft.datawrangler.viewer.v0+json": {
       "columns": [
        {
         "name": "index",
         "rawType": "int64",
         "type": "integer"
        },
        {
         "name": "Id",
         "rawType": "int64",
         "type": "integer"
        },
        {
         "name": "Date",
         "rawType": "object",
         "type": "string"
        },
        {
         "name": "WeightKg",
         "rawType": "float64",
         "type": "float"
        },
        {
         "name": "WeightPounds",
         "rawType": "float64",
         "type": "float"
        },
        {
         "name": "Fat",
         "rawType": "float64",
         "type": "float"
        },
        {
         "name": "BMI",
         "rawType": "float64",
         "type": "float"
        },
        {
         "name": "IsManualReport",
         "rawType": "bool",
         "type": "boolean"
        },
        {
         "name": "LogId",
         "rawType": "int64",
         "type": "integer"
        }
       ],
       "ref": "21b1da98-c17b-4d63-9894-fc56e05db395",
       "rows": [
        [
         "15",
         "6962181067",
         "4/14/2016 11:59:59 PM",
         "61.7000007629395",
         "136.025217450139",
         null,
         "24.1000003814697",
         "True",
         "1460678399000"
        ],
        [
         "26",
         "6962181067",
         "4/25/2016 11:59:59 PM",
         "61.7000007629395",
         "136.025217450139",
         null,
         "24.1000003814697",
         "True",
         "1461628799000"
        ],
        [
         "12",
         "5577150313",
         "4/17/2016 9:17:55 AM",
         "90.6999969482422",
         "199.959265073821",
         null,
         "28.0",
         "False",
         "1460884675000"
        ],
        [
         "58",
         "8877689391",
         "4/30/2016 7:49:03 AM",
         "85.5",
         "188.495234168175",
         null,
         "25.5900001525879",
         "False",
         "1462002543000"
        ],
        [
         "19",
         "6962181067",
         "4/18/2016 11:59:59 PM",
         "61.2000007629395",
         "134.922906139214",
         null,
         "23.8899993896484",
         "True",
         "1461023999000"
        ]
       ],
       "shape": {
        "columns": 8,
        "rows": 5
       }
      },
      "text/html": [
       "<div>\n",
       "<style scoped>\n",
       "    .dataframe tbody tr th:only-of-type {\n",
       "        vertical-align: middle;\n",
       "    }\n",
       "\n",
       "    .dataframe tbody tr th {\n",
       "        vertical-align: top;\n",
       "    }\n",
       "\n",
       "    .dataframe thead th {\n",
       "        text-align: right;\n",
       "    }\n",
       "</style>\n",
       "<table border=\"1\" class=\"dataframe\">\n",
       "  <thead>\n",
       "    <tr style=\"text-align: right;\">\n",
       "      <th></th>\n",
       "      <th>Id</th>\n",
       "      <th>Date</th>\n",
       "      <th>WeightKg</th>\n",
       "      <th>WeightPounds</th>\n",
       "      <th>Fat</th>\n",
       "      <th>BMI</th>\n",
       "      <th>IsManualReport</th>\n",
       "      <th>LogId</th>\n",
       "    </tr>\n",
       "  </thead>\n",
       "  <tbody>\n",
       "    <tr>\n",
       "      <th>15</th>\n",
       "      <td>6962181067</td>\n",
       "      <td>4/14/2016 11:59:59 PM</td>\n",
       "      <td>61.700001</td>\n",
       "      <td>136.025217</td>\n",
       "      <td>NaN</td>\n",
       "      <td>24.100000</td>\n",
       "      <td>True</td>\n",
       "      <td>1460678399000</td>\n",
       "    </tr>\n",
       "    <tr>\n",
       "      <th>26</th>\n",
       "      <td>6962181067</td>\n",
       "      <td>4/25/2016 11:59:59 PM</td>\n",
       "      <td>61.700001</td>\n",
       "      <td>136.025217</td>\n",
       "      <td>NaN</td>\n",
       "      <td>24.100000</td>\n",
       "      <td>True</td>\n",
       "      <td>1461628799000</td>\n",
       "    </tr>\n",
       "    <tr>\n",
       "      <th>12</th>\n",
       "      <td>5577150313</td>\n",
       "      <td>4/17/2016 9:17:55 AM</td>\n",
       "      <td>90.699997</td>\n",
       "      <td>199.959265</td>\n",
       "      <td>NaN</td>\n",
       "      <td>28.000000</td>\n",
       "      <td>False</td>\n",
       "      <td>1460884675000</td>\n",
       "    </tr>\n",
       "    <tr>\n",
       "      <th>58</th>\n",
       "      <td>8877689391</td>\n",
       "      <td>4/30/2016 7:49:03 AM</td>\n",
       "      <td>85.500000</td>\n",
       "      <td>188.495234</td>\n",
       "      <td>NaN</td>\n",
       "      <td>25.590000</td>\n",
       "      <td>False</td>\n",
       "      <td>1462002543000</td>\n",
       "    </tr>\n",
       "    <tr>\n",
       "      <th>19</th>\n",
       "      <td>6962181067</td>\n",
       "      <td>4/18/2016 11:59:59 PM</td>\n",
       "      <td>61.200001</td>\n",
       "      <td>134.922906</td>\n",
       "      <td>NaN</td>\n",
       "      <td>23.889999</td>\n",
       "      <td>True</td>\n",
       "      <td>1461023999000</td>\n",
       "    </tr>\n",
       "  </tbody>\n",
       "</table>\n",
       "</div>"
      ],
      "text/plain": [
       "            Id                   Date   WeightKg  WeightPounds  Fat  \\\n",
       "15  6962181067  4/14/2016 11:59:59 PM  61.700001    136.025217  NaN   \n",
       "26  6962181067  4/25/2016 11:59:59 PM  61.700001    136.025217  NaN   \n",
       "12  5577150313   4/17/2016 9:17:55 AM  90.699997    199.959265  NaN   \n",
       "58  8877689391   4/30/2016 7:49:03 AM  85.500000    188.495234  NaN   \n",
       "19  6962181067  4/18/2016 11:59:59 PM  61.200001    134.922906  NaN   \n",
       "\n",
       "          BMI  IsManualReport          LogId  \n",
       "15  24.100000            True  1460678399000  \n",
       "26  24.100000            True  1461628799000  \n",
       "12  28.000000           False  1460884675000  \n",
       "58  25.590000           False  1462002543000  \n",
       "19  23.889999            True  1461023999000  "
      ]
     },
     "execution_count": 426,
     "metadata": {},
     "output_type": "execute_result"
    }
   ],
   "source": [
    "weightLog.sample(5)"
   ]
  },
  {
   "cell_type": "markdown",
   "id": "d350caef",
   "metadata": {},
   "source": [
    "### 🗓️ Step 4: Fixing Data Types\n",
    "\n",
    "Some date columns were stored as plain text (`object`). We'll convert them to proper datetime objects. It allows for easier date-based filtering and analysis.\n",
    "\n"
   ]
  },
  {
   "cell_type": "code",
   "execution_count": 427,
   "id": "9efdecc5",
   "metadata": {},
   "outputs": [],
   "source": [
    "dailyActivity['ActivityDate'] = pd.to_datetime(dailyActivity['ActivityDate'], format='%m/%d/%Y')\n",
    "hourlyIntensities['ActivityHour'] = pd.to_datetime(hourlyIntensities['ActivityHour'], format='%m/%d/%Y %I:%M:%S %p')\n",
    "sleepDay['SleepDay'] = pd.to_datetime(sleepDay['SleepDay'], format='%m/%d/%Y %I:%M:%S %p')\n",
    "weightLog['Date'] = pd.to_datetime(weightLog['Date'], format='%m/%d/%Y %I:%M:%S %p')"
   ]
  },
  {
   "cell_type": "markdown",
   "id": "5e5f1db3",
   "metadata": {},
   "source": [
    "### 🗓️ Step 5: Metadata Overview\n",
    "\n",
    "Let's check the structure of each DataFrame with the `info()` function which shows:\n",
    "- The number of rows/entries\n",
    "- The number and names of columns\n",
    "- The data type for each column\n",
    "- The values not missing (non-null values) each column has\n",
    "\n"
   ]
  },
  {
   "cell_type": "code",
   "execution_count": 428,
   "id": "4b5cd66b",
   "metadata": {},
   "outputs": [
    {
     "name": "stdout",
     "output_type": "stream",
     "text": [
      "<class 'pandas.core.frame.DataFrame'>\n",
      "RangeIndex: 940 entries, 0 to 939\n",
      "Data columns (total 15 columns):\n",
      " #   Column                    Non-Null Count  Dtype         \n",
      "---  ------                    --------------  -----         \n",
      " 0   Id                        940 non-null    int64         \n",
      " 1   ActivityDate              940 non-null    datetime64[ns]\n",
      " 2   TotalSteps                940 non-null    int64         \n",
      " 3   TotalDistance             940 non-null    float64       \n",
      " 4   TrackerDistance           940 non-null    float64       \n",
      " 5   LoggedActivitiesDistance  940 non-null    float64       \n",
      " 6   VeryActiveDistance        940 non-null    float64       \n",
      " 7   ModeratelyActiveDistance  940 non-null    float64       \n",
      " 8   LightActiveDistance       940 non-null    float64       \n",
      " 9   SedentaryActiveDistance   940 non-null    float64       \n",
      " 10  VeryActiveMinutes         940 non-null    int64         \n",
      " 11  FairlyActiveMinutes       940 non-null    int64         \n",
      " 12  LightlyActiveMinutes      940 non-null    int64         \n",
      " 13  SedentaryMinutes          940 non-null    int64         \n",
      " 14  Calories                  940 non-null    int64         \n",
      "dtypes: datetime64[ns](1), float64(7), int64(7)\n",
      "memory usage: 110.3 KB\n"
     ]
    }
   ],
   "source": [
    "dailyActivity.info()"
   ]
  },
  {
   "cell_type": "code",
   "execution_count": 429,
   "id": "a752411f",
   "metadata": {},
   "outputs": [
    {
     "name": "stdout",
     "output_type": "stream",
     "text": [
      "<class 'pandas.core.frame.DataFrame'>\n",
      "RangeIndex: 22099 entries, 0 to 22098\n",
      "Data columns (total 4 columns):\n",
      " #   Column            Non-Null Count  Dtype         \n",
      "---  ------            --------------  -----         \n",
      " 0   Id                22099 non-null  int64         \n",
      " 1   ActivityHour      22099 non-null  datetime64[ns]\n",
      " 2   TotalIntensity    22099 non-null  int64         \n",
      " 3   AverageIntensity  22099 non-null  float64       \n",
      "dtypes: datetime64[ns](1), float64(1), int64(2)\n",
      "memory usage: 690.7 KB\n"
     ]
    }
   ],
   "source": [
    "hourlyIntensities.info()"
   ]
  },
  {
   "cell_type": "code",
   "execution_count": 430,
   "id": "11e638c3",
   "metadata": {},
   "outputs": [
    {
     "name": "stdout",
     "output_type": "stream",
     "text": [
      "<class 'pandas.core.frame.DataFrame'>\n",
      "RangeIndex: 413 entries, 0 to 412\n",
      "Data columns (total 5 columns):\n",
      " #   Column              Non-Null Count  Dtype         \n",
      "---  ------              --------------  -----         \n",
      " 0   Id                  413 non-null    int64         \n",
      " 1   SleepDay            413 non-null    datetime64[ns]\n",
      " 2   TotalSleepRecords   413 non-null    int64         \n",
      " 3   TotalMinutesAsleep  413 non-null    int64         \n",
      " 4   TotalTimeInBed      413 non-null    int64         \n",
      "dtypes: datetime64[ns](1), int64(4)\n",
      "memory usage: 16.3 KB\n"
     ]
    }
   ],
   "source": [
    "sleepDay.info()"
   ]
  },
  {
   "cell_type": "code",
   "execution_count": 431,
   "id": "aa945224",
   "metadata": {},
   "outputs": [
    {
     "name": "stdout",
     "output_type": "stream",
     "text": [
      "<class 'pandas.core.frame.DataFrame'>\n",
      "RangeIndex: 67 entries, 0 to 66\n",
      "Data columns (total 8 columns):\n",
      " #   Column          Non-Null Count  Dtype         \n",
      "---  ------          --------------  -----         \n",
      " 0   Id              67 non-null     int64         \n",
      " 1   Date            67 non-null     datetime64[ns]\n",
      " 2   WeightKg        67 non-null     float64       \n",
      " 3   WeightPounds    67 non-null     float64       \n",
      " 4   Fat             2 non-null      float64       \n",
      " 5   BMI             67 non-null     float64       \n",
      " 6   IsManualReport  67 non-null     bool          \n",
      " 7   LogId           67 non-null     int64         \n",
      "dtypes: bool(1), datetime64[ns](1), float64(4), int64(2)\n",
      "memory usage: 3.9 KB\n"
     ]
    }
   ],
   "source": [
    "weightLog.info()"
   ]
  },
  {
   "cell_type": "markdown",
   "id": "e18be551",
   "metadata": {},
   "source": [
    "### 🪥 Step 6: Cleaning Missing Values and Duplicates\n",
    "\n",
    "We'll identify and remove any irrelevant null or duplicate rows in our data.\n",
    "\n"
   ]
  },
  {
   "cell_type": "markdown",
   "id": "f4cd0343",
   "metadata": {},
   "source": [
    "#### 🔎 Identifying Missing Values\n",
    "\n",
    "As seen below, only the `weightLog` DataFrame has missing values and it is for the Fat column. These values are rarely measured or manually entered and are not considered critical for our analysis."
   ]
  },
  {
   "cell_type": "code",
   "execution_count": 432,
   "id": "d42a9a4c",
   "metadata": {},
   "outputs": [
    {
     "name": "stdout",
     "output_type": "stream",
     "text": [
      "- No missing values in dailyActivity\n",
      "- No missing values in hourlyIntensities\n",
      "- No missing values in sleepDay\n",
      "- Missing values in weightLog:\n",
      "Fat    65\n",
      "dtype: int64\n"
     ]
    }
   ],
   "source": [
    "# This function prints the missing values for each DataFrame\n",
    "def show_missing_values(df, name):\n",
    "    missing = df.isnull().sum()\n",
    "    missing = missing[missing > 0]\n",
    "    if not missing.empty:\n",
    "        print(f\"- Missing values in {name}:\")\n",
    "        print(missing)\n",
    "    else:\n",
    "        print(f\"- No missing values in {name}\")\n",
    "\n",
    "show_missing_values(dailyActivity, \"dailyActivity\")\n",
    "show_missing_values(hourlyIntensities, \"hourlyIntensities\")\n",
    "show_missing_values(sleepDay, \"sleepDay\")\n",
    "show_missing_values(weightLog, \"weightLog\")"
   ]
  },
  {
   "cell_type": "markdown",
   "id": "43046761",
   "metadata": {},
   "source": [
    "#### 🔎 Identifying Duplicates\n",
    "\n",
    "As seen below, only the `sleepDay` DataFrame contains duplicate rows. We'll delete them further below to reduce redundancy."
   ]
  },
  {
   "cell_type": "code",
   "execution_count": 433,
   "id": "7f5824dd",
   "metadata": {},
   "outputs": [
    {
     "name": "stdout",
     "output_type": "stream",
     "text": [
      "- No duplicates in dailyActivity\n",
      "- No duplicates in hourlyIntensities\n",
      "- Duplicates in sleepDay: 3\n",
      "- No duplicates in weightLog\n"
     ]
    }
   ],
   "source": [
    "# This function prints the missing values for each DataFrame\n",
    "def show_duplicates(df, name):\n",
    "    duplicates = df.duplicated().sum()\n",
    "    if duplicates > 0:\n",
    "        print(f\"- Duplicates in {name}:\", duplicates)\n",
    "    else:\n",
    "        print(f\"- No duplicates in {name}\")\n",
    "\n",
    "show_duplicates(dailyActivity, \"dailyActivity\")\n",
    "show_duplicates(hourlyIntensities, \"hourlyIntensities\")\n",
    "show_duplicates(sleepDay, \"sleepDay\")\n",
    "show_duplicates(weightLog, \"weightLog\")\n",
    "\n",
    "# Deleting duplicates in sleepDay\n",
    "sleepDay = sleepDay.drop_duplicates()"
   ]
  },
  {
   "cell_type": "markdown",
   "id": "2926364f",
   "metadata": {},
   "source": [
    "\n",
    "---"
   ]
  },
  {
   "cell_type": "markdown",
   "id": "9a48a12c",
   "metadata": {},
   "source": [
    "## 📊 Data Analysis and Visualization"
   ]
  },
  {
   "cell_type": "markdown",
   "id": "23a66be5",
   "metadata": {},
   "source": [
    "### 🕵️ User Behavior by Feature Usage\n",
    "\n",
    "The chart below shows how many users actively engage with their smart devices for tracking daily activity, sleep, and weight.  \n",
    "It reveals which features are most commonly used and where there may be opportunities to improve engagement."
   ]
  },
  {
   "cell_type": "code",
   "execution_count": 434,
   "id": "bf913163",
   "metadata": {},
   "outputs": [
    {
     "data": {
      "image/png": "[encoded data removed]",
      "text/plain": [
       "<Figure size 640x480 with 1 Axes>"
      ]
     },
     "metadata": {},
     "output_type": "display_data"
    }
   ],
   "source": [
    "# This function adds labels to the top of each bar on the plot\n",
    "def add_bar_labels(barplot,extra_height):\n",
    "    # Loops through all the bar objects (patches)\n",
    "    for bar in barplot.patches:\n",
    "        # Gets the height of the bar\n",
    "        height = bar.get_height()\n",
    "        # Adds text to the bar chart\n",
    "        barplot.text(\n",
    "            bar.get_x() + bar.get_width() / 2, # Position at the center of the bar\n",
    "            height + extra_height, # Position a bit above the bar\n",
    "            f'{float(height.round(1))}', # The bar's value as an integer\n",
    "            ha='center', # centers the text horizontally\n",
    "            va='bottom', # vertical alignment\n",
    "            fontsize = 10 # font size\n",
    "                    )\n",
    "\n",
    "\n",
    "# Get the number of unique users by feature usage\n",
    "unique_IDs_activity = dailyActivity['Id'].nunique()\n",
    "unique_IDs_sleep = sleepDay['Id'].nunique()\n",
    "unique_IDs_weight = weightLog['Id'].nunique()\n",
    "\n",
    "# We need to create a DataFrame to hold these values\n",
    "feature_vs_unique_users = pd.DataFrame({\n",
    "    'Feature': ['Daily Activity', 'Sleep', 'Weight Log'],\n",
    "    'Unique Users': [unique_IDs_activity, unique_IDs_sleep, unique_IDs_weight]\n",
    "})\n",
    "\n",
    "# Plot a bar chart that contains the active number of users per available feature\n",
    "plt.figure()\n",
    "barplot1 = sns.barplot(feature_vs_unique_users,x='Feature',y='Unique Users',color='navy') # Bar chart\n",
    "add_bar_labels(barplot1,0.5) # adds labels to the top of each bar\n",
    "sns.despine()\n",
    "plt.title('Unique Users by Feature', pad=20, fontsize=14, weight='bold') # Chart title\n",
    "plt.xlabel('Feature', fontsize=12) # x-axis label\n",
    "plt.ylabel('Unique Users', fontsize=12) # y-axis label\n",
    "plt.tight_layout() # Adjusts spacing automatically. In this case, it puts the bar titles closer to the x-axis\n",
    "plt.xticks(rotation=15) # Rotates the bar titles to increase visibility\n",
    "plt.show()"
   ]
  },
  {
   "cell_type": "markdown",
   "id": "9906e697",
   "metadata": {},
   "source": [
    "#### 📉 Weight Tracking: Underutilized Feature\n",
    "\n",
    "Most users rely on their smart devices to keep track of sleep and daily activities. However, the number of active users tracking their weight is significantly lower, accounting for less than 25% of those who track daily activities. This underutilization may be due to friction in manual logging or a lack of user awareness.\n",
    "\n",
    "To increase adoption, the company could explore:\n",
    "\n",
    "- **Integrating automated weight tracking** through smart scale compatibility  \n",
    "- **Enhancing reminders, UI visibility**, or incorporating **gamification elements** to encourage regular input  \n",
    "- **Expanding tracking capabilities** to include body composition metrics such as fat percentage and BMI  \n",
    "\n",
    "Greater user engagement in this area could support more comprehensive health monitoring and generate valuable insights for both users and the business.\n",
    "\n",
    "Due to the limited sample size and inconsistensies in the `weightLog` dataset, it **will not be considered** in this case study."
   ]
  },
  {
   "cell_type": "markdown",
   "id": "71eff4ff",
   "metadata": {},
   "source": [
    "#### 🏋️ User Activity Classification\n",
    "\n",
    "To better understand user behavior, we can categorize users into four activity levels: **very active**, **moderately active**, **lightly active**, and **sedentary**. The code below performs this classification based on the users' daily activity data."
   ]
  },
  {
   "cell_type": "code",
   "execution_count": 435,
   "id": "705fd0e3",
   "metadata": {},
   "outputs": [
    {
     "data": {
      "image/png": "[encoded data removed]",
      "text/plain": [
       "<Figure size 640x480 with 1 Axes>"
      ]
     },
     "metadata": {},
     "output_type": "display_data"
    }
   ],
   "source": [
    "# We'll calculate the average time for each activity level for each user\n",
    "\n",
    "# Columns needed\n",
    "activity_columns = ['Id', \n",
    "                    'VeryActiveMinutes', \n",
    "                    'FairlyActiveMinutes', \n",
    "                    'LightlyActiveMinutes', \n",
    "                    'SedentaryMinutes']\n",
    "filtered_activity = dailyActivity[activity_columns] # Filtered DataFrame\n",
    "\n",
    "avg_times = filtered_activity.groupby('Id')[\n",
    "    activity_columns[1:] # Calculated columns\n",
    "].mean().reset_index() # Calculates the means then resets each index\n",
    "\n",
    "# This function assigns each user an activity level based on their (previously calculated) average activity minutes\n",
    "def id_activity_level(row):\n",
    "    if row['VeryActiveMinutes'] >= 30:\n",
    "        return 'Very Active'\n",
    "    elif row['FairlyActiveMinutes'] >= 30:\n",
    "        return 'Moderately Active'\n",
    "    elif row['LightlyActiveMinutes'] >= 30:\n",
    "        return 'Lightly Active'\n",
    "    else:\n",
    "        return 'Sedentary'\n",
    "    \n",
    "# Creates a new ActivityLevel to receive the classification for each user\n",
    "avg_times['ActivityLevel'] = avg_times.apply(id_activity_level, axis=1)\n",
    "\n",
    "# Counts the number of users classified by activity level\n",
    "activity_count = avg_times['ActivityLevel'].value_counts().reset_index()\n",
    "activity_count.columns = ['Activity Level', 'Users Count']\n",
    "\n",
    "plt.figure()\n",
    "category_order2 = ['Very Active', 'Moderately Active', 'Lightly Active', 'Sedentary'] # Sets a more logical order for the bars displayed\n",
    "barplot2 = sns.barplot(activity_count,x='Activity Level',y='Users Count',order=category_order2) # Bar char\n",
    "add_bar_labels(barplot2,0.5)\n",
    "sns.despine()\n",
    "plt.title('User Activity Classification', pad=20, fontsize=14, weight='bold') # Chart title\n",
    "plt.xlabel('Activity Level', fontsize=12) # x-axis label\n",
    "plt.ylabel('Number of Users', fontsize=12) # y-axis label\n",
    "plt.tight_layout() # Adjusts spacing automatically.\n",
    "plt.xticks(rotation=15) # Rotates the bar titles to increase visibility\n",
    "plt.show()"
   ]
  },
  {
   "cell_type": "markdown",
   "id": "756e0b38",
   "metadata": {},
   "source": [
    "None of our users are sedentary, and that’s great news!\n",
    "It suggests that users are actively using their smart devices to track their daily activities.\n",
    "\n",
    "Most users fall under the Lightly Active category, followed by Very Active.\n",
    "Interestingly, only one user was classified as Moderately Active.\n",
    "\n",
    "But how about sedentary time?\n",
    "\n",
    "How much time do users spend resting, sleeping, or doing other activities that aren’t considered physical exercise?\n",
    "\n",
    "The code below aims to answer that question."
   ]
  },
  {
   "cell_type": "code",
   "execution_count": 436,
   "id": "5bb2aa35",
   "metadata": {},
   "outputs": [
    {
     "data": {
      "image/png": "[encoded data removed]",
      "text/plain": [
       "<Figure size 640x480 with 1 Axes>"
      ]
     },
     "metadata": {},
     "output_type": "display_data"
    },
    {
     "data": {
      "application/vnd.microsoft.datawrangler.viewer.v0+json": {
       "columns": [
        {
         "name": "index",
         "rawType": "int64",
         "type": "integer"
        },
        {
         "name": "Activity Level",
         "rawType": "object",
         "type": "string"
        },
        {
         "name": "Sedentary Time (hours)",
         "rawType": "float64",
         "type": "float"
        }
       ],
       "ref": "093b5bcf-3d04-4de2-b679-21c653879a2c",
       "rows": [
        [
         "0",
         "Lightly Active",
         "17.1"
        ],
        [
         "1",
         "Moderately Active",
         "11.8"
        ],
        [
         "2",
         "Very Active",
         "15.8"
        ]
       ],
       "shape": {
        "columns": 2,
        "rows": 3
       }
      },
      "text/html": [
       "<div>\n",
       "<style scoped>\n",
       "    .dataframe tbody tr th:only-of-type {\n",
       "        vertical-align: middle;\n",
       "    }\n",
       "\n",
       "    .dataframe tbody tr th {\n",
       "        vertical-align: top;\n",
       "    }\n",
       "\n",
       "    .dataframe thead th {\n",
       "        text-align: right;\n",
       "    }\n",
       "</style>\n",
       "<table border=\"1\" class=\"dataframe\">\n",
       "  <thead>\n",
       "    <tr style=\"text-align: right;\">\n",
       "      <th></th>\n",
       "      <th>Activity Level</th>\n",
       "      <th>Sedentary Time (hours)</th>\n",
       "    </tr>\n",
       "  </thead>\n",
       "  <tbody>\n",
       "    <tr>\n",
       "      <th>0</th>\n",
       "      <td>Lightly Active</td>\n",
       "      <td>17.1</td>\n",
       "    </tr>\n",
       "    <tr>\n",
       "      <th>1</th>\n",
       "      <td>Moderately Active</td>\n",
       "      <td>11.8</td>\n",
       "    </tr>\n",
       "    <tr>\n",
       "      <th>2</th>\n",
       "      <td>Very Active</td>\n",
       "      <td>15.8</td>\n",
       "    </tr>\n",
       "  </tbody>\n",
       "</table>\n",
       "</div>"
      ],
      "text/plain": [
       "      Activity Level  Sedentary Time (hours)\n",
       "0     Lightly Active                    17.1\n",
       "1  Moderately Active                    11.8\n",
       "2        Very Active                    15.8"
      ]
     },
     "metadata": {},
     "output_type": "display_data"
    },
    {
     "name": "stdout",
     "output_type": "stream",
     "text": [
      "Average Sedentary Time Overall (hours): 16.7\n"
     ]
    }
   ],
   "source": [
    "# Gets the average sedentary time per activity level]\n",
    "avg_sed_time = avg_times.groupby('ActivityLevel')['SedentaryMinutes'].mean().reset_index()\n",
    "avg_sed_time.columns = ['Activity Level', 'Sedentary Time (hours)']\n",
    "avg_sed_time['Sedentary Time (hours)'] = (avg_sed_time['Sedentary Time (hours)']/60).round(1)\n",
    "\n",
    "\n",
    "plt.figure()\n",
    "sns.barplot(data=avg_sed_time, y='Activity Level', x='Sedentary Time (hours)', color='skyblue',order=category_order2[:-1])\n",
    "sns.despine()\n",
    "plt.title('Average Sedentary Time per Activity Level', pad=20, fontsize=14, weight='bold')\n",
    "plt.xlabel('Sedentary Time (hours)')\n",
    "plt.ylabel('Activity Level')\n",
    "plt.tight_layout()\n",
    "plt.show()\n",
    "\n",
    "# Prints the average sedentary time per activity level table\n",
    "display(avg_sed_time)\n",
    "\n",
    "# Average sedentary time overall, converts minutes to hours then rounds it\n",
    "avg_sed_time_all = (avg_times['SedentaryMinutes'].mean()/60).round(1)\n",
    "\n",
    "# Prints average sedentary time overall\n",
    "print(\"Average Sedentary Time Overall (hours):\",avg_sed_time_all)"
   ]
  },
  {
   "cell_type": "markdown",
   "id": "21683d3a",
   "metadata": {},
   "source": [
    "The average sedentary time accross all users is 16.7 hours. Except for the \"Moderately Active\" group, sedentary time remains high accross all activity level, suggesting that even very active users may still experience long periods of inactivity during the day.\n",
    "\n",
    "The Moderately Active group shows lower sedentary time, but since it’s based on a single user, the result isn’t reliable. I chose to keep it for transparency, though in future analyses (like below) I'll consider excluding it based on predefined criteria, like a small sample size.\n",
    "\n",
    "How much do people from different groups sleep? \n",
    "\n",
    "Now, We'll explore wether there's any relationship between a user's activity level and average sleep duration."
   ]
  },
  {
   "cell_type": "code",
   "execution_count": 437,
   "id": "c5ecfba1",
   "metadata": {},
   "outputs": [
    {
     "data": {
      "application/vnd.microsoft.datawrangler.viewer.v0+json": {
       "columns": [
        {
         "name": "ActivityLevel",
         "rawType": "object",
         "type": "string"
        },
        {
         "name": "TotalMinutesAsleep",
         "rawType": "float64",
         "type": "float"
        }
       ],
       "ref": "02bca9a7-4eae-455b-8563-e9505acd38b6",
       "rows": [
        [
         "Lightly Active",
         "7.2"
        ],
        [
         "Very Active",
         "6.9"
        ]
       ],
       "shape": {
        "columns": 1,
        "rows": 2
       }
      },
      "text/html": [
       "<div>\n",
       "<style scoped>\n",
       "    .dataframe tbody tr th:only-of-type {\n",
       "        vertical-align: middle;\n",
       "    }\n",
       "\n",
       "    .dataframe tbody tr th {\n",
       "        vertical-align: top;\n",
       "    }\n",
       "\n",
       "    .dataframe thead th {\n",
       "        text-align: right;\n",
       "    }\n",
       "</style>\n",
       "<table border=\"1\" class=\"dataframe\">\n",
       "  <thead>\n",
       "    <tr style=\"text-align: right;\">\n",
       "      <th></th>\n",
       "      <th>TotalMinutesAsleep</th>\n",
       "    </tr>\n",
       "    <tr>\n",
       "      <th>ActivityLevel</th>\n",
       "      <th></th>\n",
       "    </tr>\n",
       "  </thead>\n",
       "  <tbody>\n",
       "    <tr>\n",
       "      <th>Lightly Active</th>\n",
       "      <td>7.2</td>\n",
       "    </tr>\n",
       "    <tr>\n",
       "      <th>Very Active</th>\n",
       "      <td>6.9</td>\n",
       "    </tr>\n",
       "  </tbody>\n",
       "</table>\n",
       "</div>"
      ],
      "text/plain": [
       "                TotalMinutesAsleep\n",
       "ActivityLevel                     \n",
       "Lightly Active                 7.2\n",
       "Very Active                    6.9"
      ]
     },
     "metadata": {},
     "output_type": "display_data"
    },
    {
     "data": {
      "image/png": "[encoded data removed]",
      "text/plain": [
       "<Figure size 640x480 with 1 Axes>"
      ]
     },
     "metadata": {},
     "output_type": "display_data"
    }
   ],
   "source": [
    "# Filter utilized to get only the columns we need\n",
    "sleep_filter = ['Id','TotalMinutesAsleep','TotalTimeInBed']\n",
    "activity_filter = ['Id', 'ActivityLevel']\n",
    "\n",
    "# Filtered results for the sleepDay DataFrame\n",
    "sleepDay[sleep_filter]\n",
    "\n",
    "# Now we'll create an inner join to generate the table that will answer our question above\n",
    "sleep_activity = pd.merge(avg_times[activity_filter],sleepDay[sleep_filter],how='inner').reset_index()\n",
    "\n",
    "# Filters out the 'Moderately Active' group\n",
    "sleep_activity = sleep_activity[sleep_activity['ActivityLevel'] != 'Moderately Active']\n",
    "\n",
    "# Calculates the average sleep time by group\n",
    "avg_sleep_activity = sleep_activity.groupby('ActivityLevel')[['TotalMinutesAsleep']].mean()\n",
    "\n",
    "# Rounds it for better visualization\n",
    "avg_sleep_activity['TotalMinutesAsleep'] = (avg_sleep_activity['TotalMinutesAsleep']/60).round(1)\n",
    "\n",
    "# Displays the table\n",
    "display(avg_sleep_activity)\n",
    "\n",
    "# Plots a bar chart\n",
    "plt.figure()\n",
    "plot_sleep_act = sns.barplot(data=avg_sleep_activity, x='ActivityLevel', y='TotalMinutesAsleep', color='skyblue')\n",
    "add_bar_labels(plot_sleep_act,0.2)\n",
    "sns.despine()\n",
    "plt.title('Average Time Asleep per Activity Level', pad=20, fontsize=14, weight='bold')\n",
    "plt.xlabel('Activity Level')\n",
    "plt.ylabel('Total Time Asleep (hours)')\n",
    "height = avg_sleep_activity['TotalMinutesAsleep'].max()\n",
    "plt.ylim(top=height+1) # Increases the height of the y axis\n",
    "plt.tight_layout()\n",
    "plt.show()\n"
   ]
  },
  {
   "cell_type": "markdown",
   "id": "0e750d93",
   "metadata": {},
   "source": [
    "The average sleep duration doesn’t vary much across activity levels. For example, users in one group slept an average of 6.9 hours, while another group averaged 7.2 hours. Although Lightly Active users appear to sleep slightly more on average, the difference is small and may not be meaningful. With a larger sample size, this gap could either narrow or become more pronounced, so no strong conclusion can be drawn from the current data alone.\n",
    "\n",
    "The data is also available on the chart below, where a certain trend can be observed."
   ]
  },
  {
   "cell_type": "code",
   "execution_count": 438,
   "id": "29f2ee46",
   "metadata": {},
   "outputs": [
    {
     "data": {
      "text/plain": [
       "Text(0.5, 0, 'Time in Bed (min)')"
      ]
     },
     "execution_count": 438,
     "metadata": {},
     "output_type": "execute_result"
    },
    {
     "data": {
      "image/png": "[encoded data removed]",
      "text/plain": [
       "<Figure size 640x480 with 1 Axes>"
      ]
     },
     "metadata": {},
     "output_type": "display_data"
    }
   ],
   "source": [
    "# x and y values to find R²\n",
    "x1 = sleep_activity['TotalTimeInBed']\n",
    "y1 = sleep_activity['TotalMinutesAsleep']\n",
    "\n",
    "# We'll evaluate the correlation between time asleep and time in bed\n",
    "r_1 = np.corrcoef(x1, y1)[0,1]\n",
    "\n",
    "# Finding R²\n",
    "r_squared = r_1 ** 2\n",
    "\n",
    "plt.figure()\n",
    "\n",
    "# Let's create a linear model\n",
    "sns.scatterplot(\n",
    "    data=sleep_activity,\n",
    "    x='TotalTimeInBed',\n",
    "    y='TotalMinutesAsleep',\n",
    "    hue='ActivityLevel',\n",
    "    alpha=0.65\n",
    ")\n",
    "\n",
    "# Adds ONE global trend line for the graph\n",
    "sns.regplot(\n",
    "    data=sleep_activity,\n",
    "    x='TotalTimeInBed',\n",
    "    y='TotalMinutesAsleep',\n",
    "    scatter=False,\n",
    "    color='gray',\n",
    "    line_kws={'linewidth': 2, 'linestyle': '--'},\n",
    "    ci=None\n",
    ")\n",
    "\n",
    "# Adds R² to the graph\n",
    "plt.text(\n",
    "    x=sleep_activity['TotalTimeInBed'].max()*3/5,   # adjust X position as needed\n",
    "    y=sleep_activity['TotalMinutesAsleep'].max()*1/2, # adjust Y position as needed\n",
    "    s=f'$R^2 = {r_squared:.2f}$',\n",
    "    fontsize=12,\n",
    "    weight='bold'\n",
    ")\n",
    "\n",
    "plt.title('Correlation between Time in Bed and Time Asleep', pad=20, fontsize=14, weight='bold')\n",
    "plt.ylabel('Time Asleep (min)')\n",
    "plt.xlabel('Time in Bed (min)')"
   ]
  },
  {
   "cell_type": "markdown",
   "id": "a5cac0a4",
   "metadata": {},
   "source": [
    "The chart above shows a strong linear relationship between time in bed and time asleep, with an R² of 0.95, a very strong positive correlation. This suggests that users are generally using their time in bed to rest, not just lying down idly or being sedentary. However, a few outliers stand out: users who spend a disproportionate amount of time in bed without a matching amount of sleep. These occurrences could signal poor sleep quality or difficulty falling asleep. While this analysis focuses on the overall trend, these outliers may be worth revisiting later.\n",
    "\n",
    "While it might be interesting to analyze what time of day users sleep most, the data doesn’t reliably distinguish between overnight sleep and daytime naps. Because of this inconsistency, we’ve chosen to focus instead on activity intensity by hour, which is better structured and more directly interpretable."
   ]
  },
  {
   "cell_type": "code",
   "execution_count": 441,
   "id": "349da809",
   "metadata": {},
   "outputs": [
    {
     "data": {
      "image/png": "[encoded data removed]",
      "text/plain": [
       "<Figure size 640x480 with 1 Axes>"
      ]
     },
     "metadata": {},
     "output_type": "display_data"
    }
   ],
   "source": [
    "# This function will make the chart below more readable\n",
    "def add_some_labels(barplot, extra_height=0.02):\n",
    "    # Get all bar patches\n",
    "    bars = barplot.patches\n",
    "\n",
    "    # Find the bar with the maximum height\n",
    "    max_height = max(bar.get_height() for bar in bars)\n",
    "\n",
    "    for i, bar in enumerate(bars):\n",
    "        height = bar.get_height()\n",
    "        \n",
    "        # Show label if it's every 2nd bar or the tallest bar\n",
    "        if i % 2 == 0 or height == max_height:\n",
    "            barplot.text(\n",
    "                bar.get_x() + bar.get_width() / 2,\n",
    "                height + extra_height,\n",
    "                f'{height:.1f}',  # 1 decimal place\n",
    "                ha='center',\n",
    "                va='bottom',\n",
    "                fontsize=9\n",
    "            )\n",
    "\n",
    "# First, we'll filter the time in each entry\n",
    "hourlyIntensities['Hour'] = hourlyIntensities['ActivityHour'].dt.hour\n",
    "hour_intensity = hourlyIntensities[['TotalIntensity','Hour']].copy()\n",
    "hour_intensity['TotalIntensity'] = hour_intensity['TotalIntensity']/10\n",
    "\n",
    "\n",
    "# Plot a bar chart that contains the active number of users per available feature\n",
    "plt.figure()\n",
    "barplot4 = sns.barplot(hour_intensity,x='Hour',y='TotalIntensity', errorbar=None, estimator=np.mean)\n",
    "add_some_labels(barplot4)\n",
    "sns.despine()\n",
    "plt.title('Level of Intensity per Hour', pad=20, fontsize=14, weight='bold')\n",
    "plt.xlabel('Time (Hour)', fontsize=12)\n",
    "plt.ylabel('Total Intensity', fontsize=12)\n",
    "plt.tight_layout()\n",
    "plt.show()"
   ]
  },
  {
   "cell_type": "markdown",
   "id": "251f6c2e",
   "metadata": {},
   "source": [
    "The hourly average intensity chart reveals two distinct peaks in user physical activity throughout the day. Activity begins to increase around 5 AM, suggesting that many users start their day early with exercise. This trend continues upward until it reaches a midday peak at 12 PM. Following a brief decline, likely due to lunchtime rest or lower movement, activity rises again, reaching the highest intensity around 6 PM. After this evening peak, intensity gradually decreases, indicating users begin winding down for the day. These patterns suggest typical user behavior involves early morning and post-work exercise sessions, with reduced activity during midday and late evening hours."
   ]
  },
  {
   "cell_type": "markdown",
   "id": "e0fb1ba3",
   "metadata": {},
   "source": [
    "## ✅ Conclusions"
   ]
  },
  {
   "cell_type": "markdown",
   "id": "dbb86dde",
   "metadata": {},
   "source": [
    "\n",
    "Here’s what we discovered from analyzing Bellabeat user data:\n",
    "\n",
    "**⚖️ Weight tracking is rarely used.**  \n",
    "  Very few users log their weight, which means there’s an opportunity for Bellabeat to improve engagement by:\n",
    "  \n",
    "  - Adding automated weight tracking through connected smart scales  \n",
    "  - Sending helpful reminders or offering advice related to weight and body composition\n",
    "\n",
    "**🏃‍♂️ Most users are not sedentary.**  \n",
    "  The data shows that users are fairly active overall, and **average sedentary time doesn’t vary much** between users of different activity levels.\n",
    "\n",
    "**🛌 Sleep patterns show a strong trend.**  \n",
    "  There’s a clear positive correlation between **time in bed and time asleep**.  \n",
    "  However, some users spend a long time in bed but don’t sleep as much. Bellabeat could:\n",
    "\n",
    "  - Provide gentle reminders  \n",
    "  - Offer tips to improve sleep efficiency (e.g., reduce screen time before bed)\n",
    "\n",
    "**📊 Daily activity follows a clear rhythm.**  \n",
    "  Users generally start working out around **5 a.m.**, with a first activity peak at **12 p.m.**, and a second around **6 p.m.** Activity drops after **8 p.m.**  \n",
    "  - Bellabeat could use this insight to send motivational content or promotions during peak hours.\n",
    "\n",
    "### **🪜 Suggested Next Steps**\n",
    "\n",
    "- Consider running A/B tests to evaluate engagement with new features (e.g., sleep reminders).\n",
    "- Launch campaigns targeting early-morning and evening fitness enthusiasts.\n",
    "- Explore ways to encourage more users to track their weight and sleep consistently.\n"
   ]
  }
 ],
 "metadata": {
  "kernelspec": {
   "display_name": "venv",
   "language": "python",
   "name": "python3"
  },
  "language_info": {
   "codemirror_mode": {
    "name": "ipython",
    "version": 3
   },
   "file_extension": ".py",
   "mimetype": "text/x-python",
   "name": "python",
   "nbconvert_exporter": "python",
   "pygments_lexer": "ipython3",
   "version": "3.13.3"
  }
 },
 "nbformat": 4,
 "nbformat_minor": 5
}
